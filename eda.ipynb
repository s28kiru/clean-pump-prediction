{
 "cells": [
  {
   "cell_type": "code",
   "execution_count": 1,
   "metadata": {},
   "outputs": [],
   "source": [
    "import numpy as np\n",
    "import pandas as pd\n",
    "import matplotlib.pyplot as plt\n",
    "%matplotlib inline"
   ]
  },
  {
   "cell_type": "code",
   "execution_count": 2,
   "metadata": {},
   "outputs": [],
   "source": [
    "train_data = pd.read_csv(\"data/train.csv\")"
   ]
  },
  {
   "cell_type": "code",
   "execution_count": 3,
   "metadata": {},
   "outputs": [
    {
     "data": {
      "text/html": [
       "<div>\n",
       "<style scoped>\n",
       "    .dataframe tbody tr th:only-of-type {\n",
       "        vertical-align: middle;\n",
       "    }\n",
       "\n",
       "    .dataframe tbody tr th {\n",
       "        vertical-align: top;\n",
       "    }\n",
       "\n",
       "    .dataframe thead th {\n",
       "        text-align: right;\n",
       "    }\n",
       "</style>\n",
       "<table border=\"1\" class=\"dataframe\">\n",
       "  <thead>\n",
       "    <tr style=\"text-align: right;\">\n",
       "      <th></th>\n",
       "      <th>id</th>\n",
       "      <th>amount_tsh</th>\n",
       "      <th>date_recorded</th>\n",
       "      <th>funder</th>\n",
       "      <th>gps_height</th>\n",
       "      <th>installer</th>\n",
       "      <th>longitude</th>\n",
       "      <th>latitude</th>\n",
       "      <th>wpt_name</th>\n",
       "      <th>num_private</th>\n",
       "      <th>...</th>\n",
       "      <th>payment_type</th>\n",
       "      <th>water_quality</th>\n",
       "      <th>quality_group</th>\n",
       "      <th>quantity</th>\n",
       "      <th>quantity_group</th>\n",
       "      <th>source</th>\n",
       "      <th>source_type</th>\n",
       "      <th>source_class</th>\n",
       "      <th>waterpoint_type</th>\n",
       "      <th>waterpoint_type_group</th>\n",
       "    </tr>\n",
       "  </thead>\n",
       "  <tbody>\n",
       "    <tr>\n",
       "      <th>0</th>\n",
       "      <td>69572</td>\n",
       "      <td>6000.0</td>\n",
       "      <td>2011-03-14</td>\n",
       "      <td>Roman</td>\n",
       "      <td>1390</td>\n",
       "      <td>Roman</td>\n",
       "      <td>34.938093</td>\n",
       "      <td>-9.856322</td>\n",
       "      <td>none</td>\n",
       "      <td>0</td>\n",
       "      <td>...</td>\n",
       "      <td>annually</td>\n",
       "      <td>soft</td>\n",
       "      <td>good</td>\n",
       "      <td>enough</td>\n",
       "      <td>enough</td>\n",
       "      <td>spring</td>\n",
       "      <td>spring</td>\n",
       "      <td>groundwater</td>\n",
       "      <td>communal standpipe</td>\n",
       "      <td>communal standpipe</td>\n",
       "    </tr>\n",
       "    <tr>\n",
       "      <th>1</th>\n",
       "      <td>8776</td>\n",
       "      <td>0.0</td>\n",
       "      <td>2013-03-06</td>\n",
       "      <td>Grumeti</td>\n",
       "      <td>1399</td>\n",
       "      <td>GRUMETI</td>\n",
       "      <td>34.698766</td>\n",
       "      <td>-2.147466</td>\n",
       "      <td>Zahanati</td>\n",
       "      <td>0</td>\n",
       "      <td>...</td>\n",
       "      <td>never pay</td>\n",
       "      <td>soft</td>\n",
       "      <td>good</td>\n",
       "      <td>insufficient</td>\n",
       "      <td>insufficient</td>\n",
       "      <td>rainwater harvesting</td>\n",
       "      <td>rainwater harvesting</td>\n",
       "      <td>surface</td>\n",
       "      <td>communal standpipe</td>\n",
       "      <td>communal standpipe</td>\n",
       "    </tr>\n",
       "    <tr>\n",
       "      <th>2</th>\n",
       "      <td>34310</td>\n",
       "      <td>25.0</td>\n",
       "      <td>2013-02-25</td>\n",
       "      <td>Lottery Club</td>\n",
       "      <td>686</td>\n",
       "      <td>World vision</td>\n",
       "      <td>37.460664</td>\n",
       "      <td>-3.821329</td>\n",
       "      <td>Kwa Mahundi</td>\n",
       "      <td>0</td>\n",
       "      <td>...</td>\n",
       "      <td>per bucket</td>\n",
       "      <td>soft</td>\n",
       "      <td>good</td>\n",
       "      <td>enough</td>\n",
       "      <td>enough</td>\n",
       "      <td>dam</td>\n",
       "      <td>dam</td>\n",
       "      <td>surface</td>\n",
       "      <td>communal standpipe multiple</td>\n",
       "      <td>communal standpipe</td>\n",
       "    </tr>\n",
       "    <tr>\n",
       "      <th>3</th>\n",
       "      <td>67743</td>\n",
       "      <td>0.0</td>\n",
       "      <td>2013-01-28</td>\n",
       "      <td>Unicef</td>\n",
       "      <td>263</td>\n",
       "      <td>UNICEF</td>\n",
       "      <td>38.486161</td>\n",
       "      <td>-11.155298</td>\n",
       "      <td>Zahanati Ya Nanyumbu</td>\n",
       "      <td>0</td>\n",
       "      <td>...</td>\n",
       "      <td>never pay</td>\n",
       "      <td>soft</td>\n",
       "      <td>good</td>\n",
       "      <td>dry</td>\n",
       "      <td>dry</td>\n",
       "      <td>machine dbh</td>\n",
       "      <td>borehole</td>\n",
       "      <td>groundwater</td>\n",
       "      <td>communal standpipe multiple</td>\n",
       "      <td>communal standpipe</td>\n",
       "    </tr>\n",
       "    <tr>\n",
       "      <th>4</th>\n",
       "      <td>19728</td>\n",
       "      <td>0.0</td>\n",
       "      <td>2011-07-13</td>\n",
       "      <td>Action In A</td>\n",
       "      <td>0</td>\n",
       "      <td>Artisan</td>\n",
       "      <td>31.130847</td>\n",
       "      <td>-1.825359</td>\n",
       "      <td>Shuleni</td>\n",
       "      <td>0</td>\n",
       "      <td>...</td>\n",
       "      <td>never pay</td>\n",
       "      <td>soft</td>\n",
       "      <td>good</td>\n",
       "      <td>seasonal</td>\n",
       "      <td>seasonal</td>\n",
       "      <td>rainwater harvesting</td>\n",
       "      <td>rainwater harvesting</td>\n",
       "      <td>surface</td>\n",
       "      <td>communal standpipe</td>\n",
       "      <td>communal standpipe</td>\n",
       "    </tr>\n",
       "  </tbody>\n",
       "</table>\n",
       "<p>5 rows × 40 columns</p>\n",
       "</div>"
      ],
      "text/plain": [
       "      id  amount_tsh date_recorded        funder  gps_height     installer  \\\n",
       "0  69572      6000.0    2011-03-14         Roman        1390         Roman   \n",
       "1   8776         0.0    2013-03-06       Grumeti        1399       GRUMETI   \n",
       "2  34310        25.0    2013-02-25  Lottery Club         686  World vision   \n",
       "3  67743         0.0    2013-01-28        Unicef         263        UNICEF   \n",
       "4  19728         0.0    2011-07-13   Action In A           0       Artisan   \n",
       "\n",
       "   longitude   latitude              wpt_name  num_private  \\\n",
       "0  34.938093  -9.856322                  none            0   \n",
       "1  34.698766  -2.147466              Zahanati            0   \n",
       "2  37.460664  -3.821329           Kwa Mahundi            0   \n",
       "3  38.486161 -11.155298  Zahanati Ya Nanyumbu            0   \n",
       "4  31.130847  -1.825359               Shuleni            0   \n",
       "\n",
       "           ...          payment_type water_quality quality_group  \\\n",
       "0          ...              annually          soft          good   \n",
       "1          ...             never pay          soft          good   \n",
       "2          ...            per bucket          soft          good   \n",
       "3          ...             never pay          soft          good   \n",
       "4          ...             never pay          soft          good   \n",
       "\n",
       "       quantity  quantity_group                source           source_type  \\\n",
       "0        enough          enough                spring                spring   \n",
       "1  insufficient    insufficient  rainwater harvesting  rainwater harvesting   \n",
       "2        enough          enough                   dam                   dam   \n",
       "3           dry             dry           machine dbh              borehole   \n",
       "4      seasonal        seasonal  rainwater harvesting  rainwater harvesting   \n",
       "\n",
       "   source_class              waterpoint_type waterpoint_type_group  \n",
       "0   groundwater           communal standpipe    communal standpipe  \n",
       "1       surface           communal standpipe    communal standpipe  \n",
       "2       surface  communal standpipe multiple    communal standpipe  \n",
       "3   groundwater  communal standpipe multiple    communal standpipe  \n",
       "4       surface           communal standpipe    communal standpipe  \n",
       "\n",
       "[5 rows x 40 columns]"
      ]
     },
     "execution_count": 3,
     "metadata": {},
     "output_type": "execute_result"
    }
   ],
   "source": [
    "train_data.head()"
   ]
  },
  {
   "cell_type": "code",
   "execution_count": 4,
   "metadata": {},
   "outputs": [
    {
     "name": "stdout",
     "output_type": "stream",
     "text": [
      "<class 'pandas.core.frame.DataFrame'>\n",
      "RangeIndex: 59400 entries, 0 to 59399\n",
      "Data columns (total 40 columns):\n",
      "id                       59400 non-null int64\n",
      "amount_tsh               59400 non-null float64\n",
      "date_recorded            59400 non-null object\n",
      "funder                   55765 non-null object\n",
      "gps_height               59400 non-null int64\n",
      "installer                55745 non-null object\n",
      "longitude                59400 non-null float64\n",
      "latitude                 59400 non-null float64\n",
      "wpt_name                 59400 non-null object\n",
      "num_private              59400 non-null int64\n",
      "basin                    59400 non-null object\n",
      "subvillage               59029 non-null object\n",
      "region                   59400 non-null object\n",
      "region_code              59400 non-null int64\n",
      "district_code            59400 non-null int64\n",
      "lga                      59400 non-null object\n",
      "ward                     59400 non-null object\n",
      "population               59400 non-null int64\n",
      "public_meeting           56066 non-null object\n",
      "recorded_by              59400 non-null object\n",
      "scheme_management        55523 non-null object\n",
      "scheme_name              31234 non-null object\n",
      "permit                   56344 non-null object\n",
      "construction_year        59400 non-null int64\n",
      "extraction_type          59400 non-null object\n",
      "extraction_type_group    59400 non-null object\n",
      "extraction_type_class    59400 non-null object\n",
      "management               59400 non-null object\n",
      "management_group         59400 non-null object\n",
      "payment                  59400 non-null object\n",
      "payment_type             59400 non-null object\n",
      "water_quality            59400 non-null object\n",
      "quality_group            59400 non-null object\n",
      "quantity                 59400 non-null object\n",
      "quantity_group           59400 non-null object\n",
      "source                   59400 non-null object\n",
      "source_type              59400 non-null object\n",
      "source_class             59400 non-null object\n",
      "waterpoint_type          59400 non-null object\n",
      "waterpoint_type_group    59400 non-null object\n",
      "dtypes: float64(3), int64(7), object(30)\n",
      "memory usage: 18.1+ MB\n"
     ]
    }
   ],
   "source": [
    "train_data.info()"
   ]
  },
  {
   "cell_type": "code",
   "execution_count": 5,
   "metadata": {},
   "outputs": [
    {
     "data": {
      "text/plain": [
       "Index(['id', 'amount_tsh', 'date_recorded', 'funder', 'gps_height',\n",
       "       'installer', 'longitude', 'latitude', 'wpt_name', 'num_private',\n",
       "       'basin', 'subvillage', 'region', 'region_code', 'district_code', 'lga',\n",
       "       'ward', 'population', 'public_meeting', 'recorded_by',\n",
       "       'scheme_management', 'scheme_name', 'permit', 'construction_year',\n",
       "       'extraction_type', 'extraction_type_group', 'extraction_type_class',\n",
       "       'management', 'management_group', 'payment', 'payment_type',\n",
       "       'water_quality', 'quality_group', 'quantity', 'quantity_group',\n",
       "       'source', 'source_type', 'source_class', 'waterpoint_type',\n",
       "       'waterpoint_type_group'],\n",
       "      dtype='object')"
      ]
     },
     "execution_count": 5,
     "metadata": {},
     "output_type": "execute_result"
    }
   ],
   "source": [
    "train_data.columns"
   ]
  },
  {
   "cell_type": "code",
   "execution_count": 6,
   "metadata": {},
   "outputs": [],
   "source": [
    "test_data = pd.read_csv(\"data/test.csv\")"
   ]
  },
  {
   "cell_type": "code",
   "execution_count": 7,
   "metadata": {},
   "outputs": [
    {
     "data": {
      "text/plain": [
       "Index(['id', 'amount_tsh', 'date_recorded', 'funder', 'gps_height',\n",
       "       'installer', 'longitude', 'latitude', 'wpt_name', 'num_private',\n",
       "       'basin', 'subvillage', 'region', 'region_code', 'district_code', 'lga',\n",
       "       'ward', 'population', 'public_meeting', 'recorded_by',\n",
       "       'scheme_management', 'scheme_name', 'permit', 'construction_year',\n",
       "       'extraction_type', 'extraction_type_group', 'extraction_type_class',\n",
       "       'management', 'management_group', 'payment', 'payment_type',\n",
       "       'water_quality', 'quality_group', 'quantity', 'quantity_group',\n",
       "       'source', 'source_type', 'source_class', 'waterpoint_type',\n",
       "       'waterpoint_type_group'],\n",
       "      dtype='object')"
      ]
     },
     "execution_count": 7,
     "metadata": {},
     "output_type": "execute_result"
    }
   ],
   "source": [
    "test_data.columns"
   ]
  },
  {
   "cell_type": "code",
   "execution_count": 8,
   "metadata": {},
   "outputs": [],
   "source": [
    "train_label = pd.read_csv(\"data/train_label.csv\")"
   ]
  },
  {
   "cell_type": "code",
   "execution_count": 9,
   "metadata": {},
   "outputs": [
    {
     "name": "stdout",
     "output_type": "stream",
     "text": [
      "<class 'pandas.core.frame.DataFrame'>\n",
      "RangeIndex: 59400 entries, 0 to 59399\n",
      "Data columns (total 2 columns):\n",
      "id              59400 non-null int64\n",
      "status_group    59400 non-null object\n",
      "dtypes: int64(1), object(1)\n",
      "memory usage: 928.2+ KB\n"
     ]
    }
   ],
   "source": [
    "train_label.info()"
   ]
  },
  {
   "cell_type": "code",
   "execution_count": 10,
   "metadata": {},
   "outputs": [],
   "source": [
    "def bar_plot(column_name):\n",
    "    grouped = column_name.groupby(column_name).count()\n",
    "    bar_df = grouped.to_frame()\n",
    "    plt.figure(figsize=(20,10))\n",
    "    plt.bar(bar_df.index, bar_df.iloc[:,0])"
   ]
  },
  {
   "cell_type": "code",
   "execution_count": 11,
   "metadata": {},
   "outputs": [],
   "source": [
    "def histogram(column_name):\n",
    "    plt.figure(figsize=(20,10))\n",
    "    plt.hist(column_name)"
   ]
  },
  {
   "cell_type": "code",
   "execution_count": 12,
   "metadata": {},
   "outputs": [
    {
     "data": {
      "image/png": "[encoded data removed]",
      "text/plain": [
       "<Figure size 1440x720 with 1 Axes>"
      ]
     },
     "metadata": {
      "needs_background": "light"
     },
     "output_type": "display_data"
    }
   ],
   "source": [
    "bar_plot(train_label.status_group)"
   ]
  },
  {
   "cell_type": "markdown",
   "metadata": {},
   "source": [
    "#### Data dictionary\n",
    "\n",
    "##### 1. - `id` - unique entry - no NA - good with train and test\n",
    "##### 2. - `amount_tsh` - Total static head (amount water available to waterpoint)-  possible outliers (in both train and test)\n",
    "#### 3. `date_recorded` - The date the row was entered\n",
    "#### 4. `funder` - Who funded the well - contains na\n",
    "##### 5. - `gps_height` - Altitude of the well - no outliers - not normal either - 0 - 500 a lot\n",
    "##### 6. - `installer` - Organization that installed the well - contains na\n",
    "##### 7. - `longitude` \n",
    "##### 8. - `latitude` \n",
    "##### 9. - `wpt_name` - Name of the waterpoint if there is one\n",
    "##### 10. - `num_private` - possible outliers\n",
    "##### 11. - `basin` - Geographic water basin - 9 unique\n",
    "##### 12. - `subvillage` - Geographic location - combine and bin maybe\n",
    "##### 13. - `region` - Geographic location - 21 unique\n",
    "##### 14. - `region_code` - Geographic location (coded) - 27 unique \n",
    "##### 15. - `district_code` - Geographic location (coded)\n",
    "##### 16. - `lga` - Geographic location\n",
    "##### 17. - `ward` - Geographic location\n",
    "##### 18. - `population` - Population around the well - possible outliers\n",
    "##### 19. - `public_meeting` - True/False - contains NA\n",
    "##### 20. - `recorded_by` - Group entering this row of data - nvz\n",
    "##### 21. - scheme_management - Who operates the waterpoint - contains na - 12 unique\n",
    "##### 22. - scheme_name - Who operates the waterpoint - contains NA - lot of unique - can be binned\n",
    "##### 23. - permit - If the waterpoint is permitted - contains NA - can be imputed with majority class (TRUE)\n",
    "##### 24. - construction_year - Year the waterpoint was constructed\n",
    "##### 25. - extraction_type - The kind of extraction the waterpoint uses\n",
    "##### 26. - extraction_type_group - The kind of extraction the waterpoint uses\n",
    "##### 27. - extraction_type_class - The kind of extraction the waterpoint uses\n",
    "##### 28. - management - How the waterpoint is managed\n",
    "##### 29. - management_group - How the waterpoint is managed\n",
    "##### 30. - payment - What the water costs\n",
    "##### 31. - payment_type - What the water costs\n",
    "##### 32. - water_quality - The quality of the water\n",
    "##### 33. - quality_group - The quality of the water\n",
    "##### 34. - quantity - The quantity of water\n",
    "##### 35. - quantity_group - The quantity of water\n",
    "##### 36. - source - The source of the water\n",
    "##### 37. - source_type - The source of the water\n",
    "##### 38. - source_class - The source of the water\n",
    "##### 39. - waterpoint_type - The kind of waterpoint\n",
    "##### 40. - waterpoint_type_group - The kind of waterpoint\n",
    "\n",
    "\n",
    "#### Numerical features\n",
    "\n",
    "amount_tsh, gps_height, \n",
    "\n",
    "#### Categorical features\n",
    "\n",
    "#### Spatial features\n",
    "\n",
    "longitude, latitude, subvillage, region, region_code, district_code, lga, ward\n",
    "\n",
    "#### Temporal features\n",
    "\n",
    "date_recorded\n",
    "\n",
    "#### Baseline model - columns\n",
    "\n",
    "###### Same as it is - amount_tsh, gps_height, num_private, population\n",
    "###### dummy - status_group, basin, region, district_code"
   ]
  },
  {
   "cell_type": "markdown",
   "metadata": {},
   "source": [
    "## First 10 variables - EDA"
   ]
  },
  {
   "cell_type": "code",
   "execution_count": 13,
   "metadata": {},
   "outputs": [
    {
     "data": {
      "text/html": [
       "<div>\n",
       "<style scoped>\n",
       "    .dataframe tbody tr th:only-of-type {\n",
       "        vertical-align: middle;\n",
       "    }\n",
       "\n",
       "    .dataframe tbody tr th {\n",
       "        vertical-align: top;\n",
       "    }\n",
       "\n",
       "    .dataframe thead th {\n",
       "        text-align: right;\n",
       "    }\n",
       "</style>\n",
       "<table border=\"1\" class=\"dataframe\">\n",
       "  <thead>\n",
       "    <tr style=\"text-align: right;\">\n",
       "      <th></th>\n",
       "      <th>id</th>\n",
       "      <th>amount_tsh</th>\n",
       "      <th>date_recorded</th>\n",
       "      <th>funder</th>\n",
       "      <th>gps_height</th>\n",
       "      <th>installer</th>\n",
       "      <th>longitude</th>\n",
       "      <th>latitude</th>\n",
       "      <th>wpt_name</th>\n",
       "      <th>num_private</th>\n",
       "    </tr>\n",
       "  </thead>\n",
       "  <tbody>\n",
       "    <tr>\n",
       "      <th>count</th>\n",
       "      <td>59400.000000</td>\n",
       "      <td>59400.000000</td>\n",
       "      <td>59400</td>\n",
       "      <td>55765</td>\n",
       "      <td>59400.000000</td>\n",
       "      <td>55745</td>\n",
       "      <td>59400.000000</td>\n",
       "      <td>5.940000e+04</td>\n",
       "      <td>59400</td>\n",
       "      <td>59400.000000</td>\n",
       "    </tr>\n",
       "    <tr>\n",
       "      <th>unique</th>\n",
       "      <td>NaN</td>\n",
       "      <td>NaN</td>\n",
       "      <td>356</td>\n",
       "      <td>1897</td>\n",
       "      <td>NaN</td>\n",
       "      <td>2145</td>\n",
       "      <td>NaN</td>\n",
       "      <td>NaN</td>\n",
       "      <td>37400</td>\n",
       "      <td>NaN</td>\n",
       "    </tr>\n",
       "    <tr>\n",
       "      <th>top</th>\n",
       "      <td>NaN</td>\n",
       "      <td>NaN</td>\n",
       "      <td>2011-03-15</td>\n",
       "      <td>Government Of Tanzania</td>\n",
       "      <td>NaN</td>\n",
       "      <td>DWE</td>\n",
       "      <td>NaN</td>\n",
       "      <td>NaN</td>\n",
       "      <td>none</td>\n",
       "      <td>NaN</td>\n",
       "    </tr>\n",
       "    <tr>\n",
       "      <th>freq</th>\n",
       "      <td>NaN</td>\n",
       "      <td>NaN</td>\n",
       "      <td>572</td>\n",
       "      <td>9084</td>\n",
       "      <td>NaN</td>\n",
       "      <td>17402</td>\n",
       "      <td>NaN</td>\n",
       "      <td>NaN</td>\n",
       "      <td>3563</td>\n",
       "      <td>NaN</td>\n",
       "    </tr>\n",
       "    <tr>\n",
       "      <th>mean</th>\n",
       "      <td>37115.131768</td>\n",
       "      <td>317.650385</td>\n",
       "      <td>NaN</td>\n",
       "      <td>NaN</td>\n",
       "      <td>668.297239</td>\n",
       "      <td>NaN</td>\n",
       "      <td>34.077427</td>\n",
       "      <td>-5.706033e+00</td>\n",
       "      <td>NaN</td>\n",
       "      <td>0.474141</td>\n",
       "    </tr>\n",
       "    <tr>\n",
       "      <th>std</th>\n",
       "      <td>21453.128371</td>\n",
       "      <td>2997.574558</td>\n",
       "      <td>NaN</td>\n",
       "      <td>NaN</td>\n",
       "      <td>693.116350</td>\n",
       "      <td>NaN</td>\n",
       "      <td>6.567432</td>\n",
       "      <td>2.946019e+00</td>\n",
       "      <td>NaN</td>\n",
       "      <td>12.236230</td>\n",
       "    </tr>\n",
       "    <tr>\n",
       "      <th>min</th>\n",
       "      <td>0.000000</td>\n",
       "      <td>0.000000</td>\n",
       "      <td>NaN</td>\n",
       "      <td>NaN</td>\n",
       "      <td>-90.000000</td>\n",
       "      <td>NaN</td>\n",
       "      <td>0.000000</td>\n",
       "      <td>-1.164944e+01</td>\n",
       "      <td>NaN</td>\n",
       "      <td>0.000000</td>\n",
       "    </tr>\n",
       "    <tr>\n",
       "      <th>25%</th>\n",
       "      <td>18519.750000</td>\n",
       "      <td>0.000000</td>\n",
       "      <td>NaN</td>\n",
       "      <td>NaN</td>\n",
       "      <td>0.000000</td>\n",
       "      <td>NaN</td>\n",
       "      <td>33.090347</td>\n",
       "      <td>-8.540621e+00</td>\n",
       "      <td>NaN</td>\n",
       "      <td>0.000000</td>\n",
       "    </tr>\n",
       "    <tr>\n",
       "      <th>50%</th>\n",
       "      <td>37061.500000</td>\n",
       "      <td>0.000000</td>\n",
       "      <td>NaN</td>\n",
       "      <td>NaN</td>\n",
       "      <td>369.000000</td>\n",
       "      <td>NaN</td>\n",
       "      <td>34.908743</td>\n",
       "      <td>-5.021597e+00</td>\n",
       "      <td>NaN</td>\n",
       "      <td>0.000000</td>\n",
       "    </tr>\n",
       "    <tr>\n",
       "      <th>75%</th>\n",
       "      <td>55656.500000</td>\n",
       "      <td>20.000000</td>\n",
       "      <td>NaN</td>\n",
       "      <td>NaN</td>\n",
       "      <td>1319.250000</td>\n",
       "      <td>NaN</td>\n",
       "      <td>37.178387</td>\n",
       "      <td>-3.326156e+00</td>\n",
       "      <td>NaN</td>\n",
       "      <td>0.000000</td>\n",
       "    </tr>\n",
       "    <tr>\n",
       "      <th>max</th>\n",
       "      <td>74247.000000</td>\n",
       "      <td>350000.000000</td>\n",
       "      <td>NaN</td>\n",
       "      <td>NaN</td>\n",
       "      <td>2770.000000</td>\n",
       "      <td>NaN</td>\n",
       "      <td>40.345193</td>\n",
       "      <td>-2.000000e-08</td>\n",
       "      <td>NaN</td>\n",
       "      <td>1776.000000</td>\n",
       "    </tr>\n",
       "  </tbody>\n",
       "</table>\n",
       "</div>"
      ],
      "text/plain": [
       "                  id     amount_tsh date_recorded                  funder  \\\n",
       "count   59400.000000   59400.000000         59400                   55765   \n",
       "unique           NaN            NaN           356                    1897   \n",
       "top              NaN            NaN    2011-03-15  Government Of Tanzania   \n",
       "freq             NaN            NaN           572                    9084   \n",
       "mean    37115.131768     317.650385           NaN                     NaN   \n",
       "std     21453.128371    2997.574558           NaN                     NaN   \n",
       "min         0.000000       0.000000           NaN                     NaN   \n",
       "25%     18519.750000       0.000000           NaN                     NaN   \n",
       "50%     37061.500000       0.000000           NaN                     NaN   \n",
       "75%     55656.500000      20.000000           NaN                     NaN   \n",
       "max     74247.000000  350000.000000           NaN                     NaN   \n",
       "\n",
       "          gps_height installer     longitude      latitude wpt_name  \\\n",
       "count   59400.000000     55745  59400.000000  5.940000e+04    59400   \n",
       "unique           NaN      2145           NaN           NaN    37400   \n",
       "top              NaN       DWE           NaN           NaN     none   \n",
       "freq             NaN     17402           NaN           NaN     3563   \n",
       "mean      668.297239       NaN     34.077427 -5.706033e+00      NaN   \n",
       "std       693.116350       NaN      6.567432  2.946019e+00      NaN   \n",
       "min       -90.000000       NaN      0.000000 -1.164944e+01      NaN   \n",
       "25%         0.000000       NaN     33.090347 -8.540621e+00      NaN   \n",
       "50%       369.000000       NaN     34.908743 -5.021597e+00      NaN   \n",
       "75%      1319.250000       NaN     37.178387 -3.326156e+00      NaN   \n",
       "max      2770.000000       NaN     40.345193 -2.000000e-08      NaN   \n",
       "\n",
       "         num_private  \n",
       "count   59400.000000  \n",
       "unique           NaN  \n",
       "top              NaN  \n",
       "freq             NaN  \n",
       "mean        0.474141  \n",
       "std        12.236230  \n",
       "min         0.000000  \n",
       "25%         0.000000  \n",
       "50%         0.000000  \n",
       "75%         0.000000  \n",
       "max      1776.000000  "
      ]
     },
     "execution_count": 13,
     "metadata": {},
     "output_type": "execute_result"
    }
   ],
   "source": [
    "train_data.iloc[:, 0:10].describe(include = 'all')"
   ]
  },
  {
   "cell_type": "code",
   "execution_count": 14,
   "metadata": {},
   "outputs": [
    {
     "data": {
      "text/html": [
       "<div>\n",
       "<style scoped>\n",
       "    .dataframe tbody tr th:only-of-type {\n",
       "        vertical-align: middle;\n",
       "    }\n",
       "\n",
       "    .dataframe tbody tr th {\n",
       "        vertical-align: top;\n",
       "    }\n",
       "\n",
       "    .dataframe thead th {\n",
       "        text-align: right;\n",
       "    }\n",
       "</style>\n",
       "<table border=\"1\" class=\"dataframe\">\n",
       "  <thead>\n",
       "    <tr style=\"text-align: right;\">\n",
       "      <th></th>\n",
       "      <th>id</th>\n",
       "      <th>amount_tsh</th>\n",
       "      <th>date_recorded</th>\n",
       "      <th>funder</th>\n",
       "      <th>gps_height</th>\n",
       "      <th>installer</th>\n",
       "      <th>longitude</th>\n",
       "      <th>latitude</th>\n",
       "      <th>wpt_name</th>\n",
       "      <th>num_private</th>\n",
       "    </tr>\n",
       "  </thead>\n",
       "  <tbody>\n",
       "    <tr>\n",
       "      <th>count</th>\n",
       "      <td>14850.000000</td>\n",
       "      <td>14850.000000</td>\n",
       "      <td>14850</td>\n",
       "      <td>13981</td>\n",
       "      <td>14850.000000</td>\n",
       "      <td>13973</td>\n",
       "      <td>14850.000000</td>\n",
       "      <td>1.485000e+04</td>\n",
       "      <td>14850</td>\n",
       "      <td>14850.000000</td>\n",
       "    </tr>\n",
       "    <tr>\n",
       "      <th>unique</th>\n",
       "      <td>NaN</td>\n",
       "      <td>NaN</td>\n",
       "      <td>331</td>\n",
       "      <td>980</td>\n",
       "      <td>NaN</td>\n",
       "      <td>1091</td>\n",
       "      <td>NaN</td>\n",
       "      <td>NaN</td>\n",
       "      <td>10840</td>\n",
       "      <td>NaN</td>\n",
       "    </tr>\n",
       "    <tr>\n",
       "      <th>top</th>\n",
       "      <td>NaN</td>\n",
       "      <td>NaN</td>\n",
       "      <td>2013-02-03</td>\n",
       "      <td>Government Of Tanzania</td>\n",
       "      <td>NaN</td>\n",
       "      <td>DWE</td>\n",
       "      <td>NaN</td>\n",
       "      <td>NaN</td>\n",
       "      <td>none</td>\n",
       "      <td>NaN</td>\n",
       "    </tr>\n",
       "    <tr>\n",
       "      <th>freq</th>\n",
       "      <td>NaN</td>\n",
       "      <td>NaN</td>\n",
       "      <td>138</td>\n",
       "      <td>2215</td>\n",
       "      <td>NaN</td>\n",
       "      <td>4349</td>\n",
       "      <td>NaN</td>\n",
       "      <td>NaN</td>\n",
       "      <td>877</td>\n",
       "      <td>NaN</td>\n",
       "    </tr>\n",
       "    <tr>\n",
       "      <th>mean</th>\n",
       "      <td>37161.972929</td>\n",
       "      <td>322.826983</td>\n",
       "      <td>NaN</td>\n",
       "      <td>NaN</td>\n",
       "      <td>655.147609</td>\n",
       "      <td>NaN</td>\n",
       "      <td>34.061605</td>\n",
       "      <td>-5.684724e+00</td>\n",
       "      <td>NaN</td>\n",
       "      <td>0.415084</td>\n",
       "    </tr>\n",
       "    <tr>\n",
       "      <th>std</th>\n",
       "      <td>21359.364833</td>\n",
       "      <td>2510.968644</td>\n",
       "      <td>NaN</td>\n",
       "      <td>NaN</td>\n",
       "      <td>691.261185</td>\n",
       "      <td>NaN</td>\n",
       "      <td>6.593034</td>\n",
       "      <td>2.940803e+00</td>\n",
       "      <td>NaN</td>\n",
       "      <td>8.167910</td>\n",
       "    </tr>\n",
       "    <tr>\n",
       "      <th>min</th>\n",
       "      <td>10.000000</td>\n",
       "      <td>0.000000</td>\n",
       "      <td>NaN</td>\n",
       "      <td>NaN</td>\n",
       "      <td>-57.000000</td>\n",
       "      <td>NaN</td>\n",
       "      <td>0.000000</td>\n",
       "      <td>-1.156459e+01</td>\n",
       "      <td>NaN</td>\n",
       "      <td>0.000000</td>\n",
       "    </tr>\n",
       "    <tr>\n",
       "      <th>25%</th>\n",
       "      <td>18727.000000</td>\n",
       "      <td>0.000000</td>\n",
       "      <td>NaN</td>\n",
       "      <td>NaN</td>\n",
       "      <td>0.000000</td>\n",
       "      <td>NaN</td>\n",
       "      <td>33.069455</td>\n",
       "      <td>-8.443970e+00</td>\n",
       "      <td>NaN</td>\n",
       "      <td>0.000000</td>\n",
       "    </tr>\n",
       "    <tr>\n",
       "      <th>50%</th>\n",
       "      <td>37361.500000</td>\n",
       "      <td>0.000000</td>\n",
       "      <td>NaN</td>\n",
       "      <td>NaN</td>\n",
       "      <td>344.000000</td>\n",
       "      <td>NaN</td>\n",
       "      <td>34.901215</td>\n",
       "      <td>-5.049750e+00</td>\n",
       "      <td>NaN</td>\n",
       "      <td>0.000000</td>\n",
       "    </tr>\n",
       "    <tr>\n",
       "      <th>75%</th>\n",
       "      <td>55799.750000</td>\n",
       "      <td>25.000000</td>\n",
       "      <td>NaN</td>\n",
       "      <td>NaN</td>\n",
       "      <td>1308.000000</td>\n",
       "      <td>NaN</td>\n",
       "      <td>37.196594</td>\n",
       "      <td>-3.320594e+00</td>\n",
       "      <td>NaN</td>\n",
       "      <td>0.000000</td>\n",
       "    </tr>\n",
       "    <tr>\n",
       "      <th>max</th>\n",
       "      <td>74249.000000</td>\n",
       "      <td>200000.000000</td>\n",
       "      <td>NaN</td>\n",
       "      <td>NaN</td>\n",
       "      <td>2777.000000</td>\n",
       "      <td>NaN</td>\n",
       "      <td>40.325016</td>\n",
       "      <td>-2.000000e-08</td>\n",
       "      <td>NaN</td>\n",
       "      <td>669.000000</td>\n",
       "    </tr>\n",
       "  </tbody>\n",
       "</table>\n",
       "</div>"
      ],
      "text/plain": [
       "                  id     amount_tsh date_recorded                  funder  \\\n",
       "count   14850.000000   14850.000000         14850                   13981   \n",
       "unique           NaN            NaN           331                     980   \n",
       "top              NaN            NaN    2013-02-03  Government Of Tanzania   \n",
       "freq             NaN            NaN           138                    2215   \n",
       "mean    37161.972929     322.826983           NaN                     NaN   \n",
       "std     21359.364833    2510.968644           NaN                     NaN   \n",
       "min        10.000000       0.000000           NaN                     NaN   \n",
       "25%     18727.000000       0.000000           NaN                     NaN   \n",
       "50%     37361.500000       0.000000           NaN                     NaN   \n",
       "75%     55799.750000      25.000000           NaN                     NaN   \n",
       "max     74249.000000  200000.000000           NaN                     NaN   \n",
       "\n",
       "          gps_height installer     longitude      latitude wpt_name  \\\n",
       "count   14850.000000     13973  14850.000000  1.485000e+04    14850   \n",
       "unique           NaN      1091           NaN           NaN    10840   \n",
       "top              NaN       DWE           NaN           NaN     none   \n",
       "freq             NaN      4349           NaN           NaN      877   \n",
       "mean      655.147609       NaN     34.061605 -5.684724e+00      NaN   \n",
       "std       691.261185       NaN      6.593034  2.940803e+00      NaN   \n",
       "min       -57.000000       NaN      0.000000 -1.156459e+01      NaN   \n",
       "25%         0.000000       NaN     33.069455 -8.443970e+00      NaN   \n",
       "50%       344.000000       NaN     34.901215 -5.049750e+00      NaN   \n",
       "75%      1308.000000       NaN     37.196594 -3.320594e+00      NaN   \n",
       "max      2777.000000       NaN     40.325016 -2.000000e-08      NaN   \n",
       "\n",
       "         num_private  \n",
       "count   14850.000000  \n",
       "unique           NaN  \n",
       "top              NaN  \n",
       "freq             NaN  \n",
       "mean        0.415084  \n",
       "std         8.167910  \n",
       "min         0.000000  \n",
       "25%         0.000000  \n",
       "50%         0.000000  \n",
       "75%         0.000000  \n",
       "max       669.000000  "
      ]
     },
     "execution_count": 14,
     "metadata": {},
     "output_type": "execute_result"
    }
   ],
   "source": [
    "test_data.iloc[:, 0:10].describe(include = 'all')"
   ]
  },
  {
   "cell_type": "markdown",
   "metadata": {},
   "source": [
    "#### `amount_tsh`"
   ]
  },
  {
   "cell_type": "code",
   "execution_count": 15,
   "metadata": {},
   "outputs": [
    {
     "data": {
      "image/png": "[encoded data removed]",
      "text/plain": [
       "<Figure size 1440x720 with 1 Axes>"
      ]
     },
     "metadata": {
      "needs_background": "light"
     },
     "output_type": "display_data"
    }
   ],
   "source": [
    "histogram(train_data['amount_tsh'])"
   ]
  },
  {
   "cell_type": "code",
   "execution_count": 16,
   "metadata": {},
   "outputs": [
    {
     "data": {
      "image/png": "[encoded data removed]",
      "text/plain": [
       "<Figure size 1440x720 with 1 Axes>"
      ]
     },
     "metadata": {
      "needs_background": "light"
     },
     "output_type": "display_data"
    }
   ],
   "source": [
    "histogram(test_data['amount_tsh'])"
   ]
  },
  {
   "cell_type": "markdown",
   "metadata": {},
   "source": [
    "### `date_recorded`"
   ]
  },
  {
   "cell_type": "code",
   "execution_count": 17,
   "metadata": {},
   "outputs": [
    {
     "data": {
      "image/png": "[encoded data removed]",
      "text/plain": [
       "<Figure size 1440x720 with 1 Axes>"
      ]
     },
     "metadata": {
      "needs_background": "light"
     },
     "output_type": "display_data"
    }
   ],
   "source": [
    "bar_plot(train_data.date_recorded)"
   ]
  },
  {
   "cell_type": "markdown",
   "metadata": {},
   "source": [
    "### `funder`"
   ]
  },
  {
   "cell_type": "code",
   "execution_count": 18,
   "metadata": {},
   "outputs": [
    {
     "data": {
      "text/plain": [
       "Government Of Tanzania        9084\n",
       "Danida                        3114\n",
       "Hesawa                        2202\n",
       "Rwssp                         1374\n",
       "World Bank                    1349\n",
       "Kkkt                          1287\n",
       "World Vision                  1246\n",
       "Unicef                        1057\n",
       "Tasaf                          877\n",
       "District Council               843\n",
       "Dhv                            829\n",
       "Private Individual             826\n",
       "Dwsp                           811\n",
       "0                              777\n",
       "Norad                          765\n",
       "Germany Republi                610\n",
       "Tcrs                           602\n",
       "Ministry Of Water              590\n",
       "Water                          583\n",
       "Dwe                            484\n",
       "Netherlands                    470\n",
       "Hifab                          450\n",
       "Adb                            448\n",
       "Lga                            442\n",
       "Amref                          425\n",
       "Fini Water                     393\n",
       "Oxfam                          359\n",
       "Wateraid                       333\n",
       "Rc Church                      321\n",
       "Isf                            316\n",
       "                              ... \n",
       "Csf                              1\n",
       "Liz                              1\n",
       "Abs                              1\n",
       "Eung Am Methodist Church         1\n",
       "Bukwang Church Saints            1\n",
       "Majengo Prima                    1\n",
       "Dar Es Salaam Round Table        1\n",
       "Hamref                           1\n",
       "Tlc/nyengesa Masanja             1\n",
       "Bfwd                             1\n",
       "Canada Aid                       1\n",
       "Sido                             1\n",
       "Tdrs                             1\n",
       "Municipal Council                1\n",
       "Da Unoperaio Siciliano           1\n",
       "Water Authority                  1\n",
       "Tanga Cement                     1\n",
       "Kando                            1\n",
       "Friedkin Conservation Fund       1\n",
       "Cocu                             1\n",
       "Afroz Ismail                     1\n",
       "Prince Medium School             1\n",
       "Birage                           1\n",
       "Daldo                            1\n",
       "Mwalimu Omari                    1\n",
       "Wamarekani                       1\n",
       "Moses                            1\n",
       "Stephano Paulo                   1\n",
       "Icf                              1\n",
       "Village Res                      1\n",
       "Name: funder, Length: 1897, dtype: int64"
      ]
     },
     "execution_count": 18,
     "metadata": {},
     "output_type": "execute_result"
    }
   ],
   "source": [
    "train_data.funder.value_counts()"
   ]
  },
  {
   "cell_type": "code",
   "execution_count": 19,
   "metadata": {},
   "outputs": [
    {
     "data": {
      "text/plain": [
       "Government Of Tanzania    2215\n",
       "Danida                     793\n",
       "Hesawa                     580\n",
       "World Bank                 352\n",
       "Kkkt                       336\n",
       "Rwssp                      329\n",
       "World Vision               316\n",
       "Unicef                     267\n",
       "Tasaf                      259\n",
       "Dhv                        236\n",
       "Private Individual         208\n",
       "0                          203\n",
       "Dwsp                       201\n",
       "District Council           194\n",
       "Norad                      184\n",
       "Water                      156\n",
       "Germany Republi            155\n",
       "Ministry Of Water          138\n",
       "Tcrs                       133\n",
       "Hifab                      127\n",
       "Netherlands                122\n",
       "Dwe                        121\n",
       "Lga                        104\n",
       "Adb                        103\n",
       "Amref                      100\n",
       "Rc Church                   89\n",
       "Private                     85\n",
       "Wateraid                    83\n",
       "Fini Water                  81\n",
       "Rudep                       78\n",
       "                          ... \n",
       "Ngo Kinapa                   1\n",
       "Salim Ahmed Salim            1\n",
       "Act                          1\n",
       "Magati                       1\n",
       "Government/ World Bank       1\n",
       "Dhv/comm                     1\n",
       "Ilkeri Village               1\n",
       "Mzee Chacha                  1\n",
       "Maidia Simgaya               1\n",
       "Crs                          1\n",
       "Dwe And Veo                  1\n",
       "Schoo                        1\n",
       "Lcdg                         1\n",
       "Dak                          1\n",
       "Heswa                        1\n",
       "Moslem Foundation            1\n",
       "Salim Aliamari               1\n",
       "Oxfam Gb                     1\n",
       "Mheza Distric Counc          1\n",
       "Tomas Kasmil                 1\n",
       "Ba                           1\n",
       "Kyariga                      1\n",
       "Kulwa                        1\n",
       "Pangaboi Health Centre       1\n",
       "Zara Camp                    1\n",
       "Moravian                     1\n",
       "Seleman                      1\n",
       "Local Government             1\n",
       "Hemed Islam                  1\n",
       "Friends Of Kahama            1\n",
       "Name: funder, Length: 980, dtype: int64"
      ]
     },
     "execution_count": 19,
     "metadata": {},
     "output_type": "execute_result"
    }
   ],
   "source": [
    "test_data.funder.value_counts()"
   ]
  },
  {
   "cell_type": "markdown",
   "metadata": {},
   "source": [
    "### `gps_height`"
   ]
  },
  {
   "cell_type": "code",
   "execution_count": 20,
   "metadata": {},
   "outputs": [
    {
     "data": {
      "image/png": "[encoded data removed]",
      "text/plain": [
       "<Figure size 1440x720 with 1 Axes>"
      ]
     },
     "metadata": {
      "needs_background": "light"
     },
     "output_type": "display_data"
    }
   ],
   "source": [
    "histogram(train_data['gps_height'])"
   ]
  },
  {
   "cell_type": "code",
   "execution_count": 21,
   "metadata": {},
   "outputs": [
    {
     "data": {
      "image/png": "[encoded data removed]",
      "text/plain": [
       "<Figure size 1440x720 with 1 Axes>"
      ]
     },
     "metadata": {
      "needs_background": "light"
     },
     "output_type": "display_data"
    }
   ],
   "source": [
    "histogram(test_data['gps_height'])"
   ]
  },
  {
   "cell_type": "markdown",
   "metadata": {},
   "source": [
    "### `installer`"
   ]
  },
  {
   "cell_type": "code",
   "execution_count": 22,
   "metadata": {},
   "outputs": [
    {
     "data": {
      "text/plain": [
       "DWE                          17402\n",
       "Government                    1825\n",
       "RWE                           1206\n",
       "Commu                         1060\n",
       "DANIDA                        1050\n",
       "KKKT                           898\n",
       "Hesawa                         840\n",
       "0                              777\n",
       "TCRS                           707\n",
       "Central government             622\n",
       "CES                            610\n",
       "Community                      553\n",
       "DANID                          552\n",
       "District Council               551\n",
       "HESAWA                         539\n",
       "LGA                            408\n",
       "World vision                   408\n",
       "WEDECO                         397\n",
       "TASAF                          396\n",
       "District council               392\n",
       "Gover                          383\n",
       "AMREF                          329\n",
       "TWESA                          316\n",
       "WU                             301\n",
       "Dmdd                           287\n",
       "ACRA                           278\n",
       "World Vision                   270\n",
       "SEMA                           249\n",
       "DW                             246\n",
       "OXFAM                          234\n",
       "                             ...  \n",
       "Arrian                           1\n",
       "Unknown Installer                1\n",
       "Nchagwa                          1\n",
       "SAFARI CAMP                      1\n",
       "DWE/Ubalozi wa Marekani          1\n",
       "MasjId Takuar                    1\n",
       "HEESAW                           1\n",
       "SUMO                             1\n",
       "Nyakilanganyi                    1\n",
       "CEFA/rc church                   1\n",
       "Village Technician               1\n",
       "Kuweit                           1\n",
       "Water Solution                   1\n",
       "MWL NGASSA                       1\n",
       "DWE /TASSAF                      1\n",
       "Village local contractor         1\n",
       "GDP                              1\n",
       "DMMD                             1\n",
       "QUICKWINS                        1\n",
       "MSJI MUGUMU                      1\n",
       "KKKT Ndrumangeni                 1\n",
       "RWET/WESA                        1\n",
       "William Acles                    1\n",
       "COMPASION INTERNATIO             1\n",
       "Italian government               1\n",
       "Centra Government                1\n",
       "Mohamad Masanga                  1\n",
       "Municipal Council                1\n",
       "UMOJA DRILLING CONTRACTOR        1\n",
       "Safari Roya                      1\n",
       "Name: installer, Length: 2145, dtype: int64"
      ]
     },
     "execution_count": 22,
     "metadata": {},
     "output_type": "execute_result"
    }
   ],
   "source": [
    "train_data.installer.value_counts()"
   ]
  },
  {
   "cell_type": "code",
   "execution_count": 23,
   "metadata": {},
   "outputs": [
    {
     "data": {
      "text/plain": [
       "DWE                          4349\n",
       "Government                    457\n",
       "RWE                           292\n",
       "Commu                         287\n",
       "DANIDA                        255\n",
       "Hesawa                        230\n",
       "KKKT                          222\n",
       "0                             203\n",
       "TCRS                          180\n",
       "CES                           155\n",
       "Central government            142\n",
       "HESAWA                        140\n",
       "DANID                         138\n",
       "Community                     134\n",
       "District Council              112\n",
       "World vision                  109\n",
       "TASAF                         108\n",
       "Gover                         100\n",
       "WEDECO                         99\n",
       "District council               98\n",
       "LGA                            93\n",
       "TWESA                          79\n",
       "WU                             76\n",
       "Dmdd                           69\n",
       "AMREF                          69\n",
       "ACRA                           68\n",
       "Villagers                      63\n",
       "Da                             63\n",
       "UNICEF                         63\n",
       "DW                             62\n",
       "                             ... \n",
       "Sikong                          1\n",
       "MBOMA                           1\n",
       "CIPRO/CARE/TCRS                 1\n",
       "Morrevian                       1\n",
       "Local technical                 1\n",
       "Mosha                           1\n",
       "Wanan                           1\n",
       "Malec                           1\n",
       "Cebtral Government              1\n",
       "SERONERA                        1\n",
       "Maji mugumu                     1\n",
       "GIDION JOSEPH                   1\n",
       "Water aid/sema                  1\n",
       "TCRS/village community          1\n",
       "Mukwabi Nyeisa                  1\n",
       "China                           1\n",
       "HJK CO LTD                      1\n",
       "Kalago enterprises co.ltd       1\n",
       "IADO                            1\n",
       "CEFA/ Rc church                 1\n",
       "RWE Community                   1\n",
       "wizara ya maji                  1\n",
       "Mzee Chacha                     1\n",
       "Magereza                        1\n",
       "WORLD VISION & COMMUNITY        1\n",
       "KOWI                            1\n",
       "Nairobi company                 1\n",
       "Maria Kala                      1\n",
       "Isaboga                         1\n",
       "Geita Goldmain                  1\n",
       "Name: installer, Length: 1091, dtype: int64"
      ]
     },
     "execution_count": 23,
     "metadata": {},
     "output_type": "execute_result"
    }
   ],
   "source": [
    "test_data.installer.value_counts()"
   ]
  },
  {
   "cell_type": "markdown",
   "metadata": {},
   "source": [
    "### `num_private`"
   ]
  },
  {
   "cell_type": "code",
   "execution_count": 24,
   "metadata": {},
   "outputs": [
    {
     "data": {
      "image/png": "[encoded data removed]",
      "text/plain": [
       "<Figure size 1440x720 with 1 Axes>"
      ]
     },
     "metadata": {
      "needs_background": "light"
     },
     "output_type": "display_data"
    }
   ],
   "source": [
    "histogram(train_data['num_private'])"
   ]
  },
  {
   "cell_type": "code",
   "execution_count": 25,
   "metadata": {},
   "outputs": [
    {
     "data": {
      "image/png": "[encoded data removed]",
      "text/plain": [
       "<Figure size 1440x720 with 1 Axes>"
      ]
     },
     "metadata": {
      "needs_background": "light"
     },
     "output_type": "display_data"
    }
   ],
   "source": [
    "histogram(test_data['num_private'])"
   ]
  },
  {
   "cell_type": "markdown",
   "metadata": {},
   "source": [
    "## 11 - 20 variables - EDA"
   ]
  },
  {
   "cell_type": "code",
   "execution_count": 26,
   "metadata": {},
   "outputs": [
    {
     "data": {
      "text/html": [
       "<div>\n",
       "<style scoped>\n",
       "    .dataframe tbody tr th:only-of-type {\n",
       "        vertical-align: middle;\n",
       "    }\n",
       "\n",
       "    .dataframe tbody tr th {\n",
       "        vertical-align: top;\n",
       "    }\n",
       "\n",
       "    .dataframe thead th {\n",
       "        text-align: right;\n",
       "    }\n",
       "</style>\n",
       "<table border=\"1\" class=\"dataframe\">\n",
       "  <thead>\n",
       "    <tr style=\"text-align: right;\">\n",
       "      <th></th>\n",
       "      <th>basin</th>\n",
       "      <th>subvillage</th>\n",
       "      <th>region</th>\n",
       "      <th>region_code</th>\n",
       "      <th>district_code</th>\n",
       "      <th>lga</th>\n",
       "      <th>ward</th>\n",
       "      <th>population</th>\n",
       "      <th>public_meeting</th>\n",
       "      <th>recorded_by</th>\n",
       "    </tr>\n",
       "  </thead>\n",
       "  <tbody>\n",
       "    <tr>\n",
       "      <th>count</th>\n",
       "      <td>59400</td>\n",
       "      <td>59029</td>\n",
       "      <td>59400</td>\n",
       "      <td>59400.000000</td>\n",
       "      <td>59400.000000</td>\n",
       "      <td>59400</td>\n",
       "      <td>59400</td>\n",
       "      <td>59400.000000</td>\n",
       "      <td>56066</td>\n",
       "      <td>59400</td>\n",
       "    </tr>\n",
       "    <tr>\n",
       "      <th>unique</th>\n",
       "      <td>9</td>\n",
       "      <td>19287</td>\n",
       "      <td>21</td>\n",
       "      <td>NaN</td>\n",
       "      <td>NaN</td>\n",
       "      <td>125</td>\n",
       "      <td>2092</td>\n",
       "      <td>NaN</td>\n",
       "      <td>2</td>\n",
       "      <td>1</td>\n",
       "    </tr>\n",
       "    <tr>\n",
       "      <th>top</th>\n",
       "      <td>Lake Victoria</td>\n",
       "      <td>Madukani</td>\n",
       "      <td>Iringa</td>\n",
       "      <td>NaN</td>\n",
       "      <td>NaN</td>\n",
       "      <td>Njombe</td>\n",
       "      <td>Igosi</td>\n",
       "      <td>NaN</td>\n",
       "      <td>True</td>\n",
       "      <td>GeoData Consultants Ltd</td>\n",
       "    </tr>\n",
       "    <tr>\n",
       "      <th>freq</th>\n",
       "      <td>10248</td>\n",
       "      <td>508</td>\n",
       "      <td>5294</td>\n",
       "      <td>NaN</td>\n",
       "      <td>NaN</td>\n",
       "      <td>2503</td>\n",
       "      <td>307</td>\n",
       "      <td>NaN</td>\n",
       "      <td>51011</td>\n",
       "      <td>59400</td>\n",
       "    </tr>\n",
       "    <tr>\n",
       "      <th>mean</th>\n",
       "      <td>NaN</td>\n",
       "      <td>NaN</td>\n",
       "      <td>NaN</td>\n",
       "      <td>15.297003</td>\n",
       "      <td>5.629747</td>\n",
       "      <td>NaN</td>\n",
       "      <td>NaN</td>\n",
       "      <td>179.909983</td>\n",
       "      <td>NaN</td>\n",
       "      <td>NaN</td>\n",
       "    </tr>\n",
       "    <tr>\n",
       "      <th>std</th>\n",
       "      <td>NaN</td>\n",
       "      <td>NaN</td>\n",
       "      <td>NaN</td>\n",
       "      <td>17.587406</td>\n",
       "      <td>9.633649</td>\n",
       "      <td>NaN</td>\n",
       "      <td>NaN</td>\n",
       "      <td>471.482176</td>\n",
       "      <td>NaN</td>\n",
       "      <td>NaN</td>\n",
       "    </tr>\n",
       "    <tr>\n",
       "      <th>min</th>\n",
       "      <td>NaN</td>\n",
       "      <td>NaN</td>\n",
       "      <td>NaN</td>\n",
       "      <td>1.000000</td>\n",
       "      <td>0.000000</td>\n",
       "      <td>NaN</td>\n",
       "      <td>NaN</td>\n",
       "      <td>0.000000</td>\n",
       "      <td>NaN</td>\n",
       "      <td>NaN</td>\n",
       "    </tr>\n",
       "    <tr>\n",
       "      <th>25%</th>\n",
       "      <td>NaN</td>\n",
       "      <td>NaN</td>\n",
       "      <td>NaN</td>\n",
       "      <td>5.000000</td>\n",
       "      <td>2.000000</td>\n",
       "      <td>NaN</td>\n",
       "      <td>NaN</td>\n",
       "      <td>0.000000</td>\n",
       "      <td>NaN</td>\n",
       "      <td>NaN</td>\n",
       "    </tr>\n",
       "    <tr>\n",
       "      <th>50%</th>\n",
       "      <td>NaN</td>\n",
       "      <td>NaN</td>\n",
       "      <td>NaN</td>\n",
       "      <td>12.000000</td>\n",
       "      <td>3.000000</td>\n",
       "      <td>NaN</td>\n",
       "      <td>NaN</td>\n",
       "      <td>25.000000</td>\n",
       "      <td>NaN</td>\n",
       "      <td>NaN</td>\n",
       "    </tr>\n",
       "    <tr>\n",
       "      <th>75%</th>\n",
       "      <td>NaN</td>\n",
       "      <td>NaN</td>\n",
       "      <td>NaN</td>\n",
       "      <td>17.000000</td>\n",
       "      <td>5.000000</td>\n",
       "      <td>NaN</td>\n",
       "      <td>NaN</td>\n",
       "      <td>215.000000</td>\n",
       "      <td>NaN</td>\n",
       "      <td>NaN</td>\n",
       "    </tr>\n",
       "    <tr>\n",
       "      <th>max</th>\n",
       "      <td>NaN</td>\n",
       "      <td>NaN</td>\n",
       "      <td>NaN</td>\n",
       "      <td>99.000000</td>\n",
       "      <td>80.000000</td>\n",
       "      <td>NaN</td>\n",
       "      <td>NaN</td>\n",
       "      <td>30500.000000</td>\n",
       "      <td>NaN</td>\n",
       "      <td>NaN</td>\n",
       "    </tr>\n",
       "  </tbody>\n",
       "</table>\n",
       "</div>"
      ],
      "text/plain": [
       "                basin subvillage  region   region_code  district_code     lga  \\\n",
       "count           59400      59029   59400  59400.000000   59400.000000   59400   \n",
       "unique              9      19287      21           NaN            NaN     125   \n",
       "top     Lake Victoria   Madukani  Iringa           NaN            NaN  Njombe   \n",
       "freq            10248        508    5294           NaN            NaN    2503   \n",
       "mean              NaN        NaN     NaN     15.297003       5.629747     NaN   \n",
       "std               NaN        NaN     NaN     17.587406       9.633649     NaN   \n",
       "min               NaN        NaN     NaN      1.000000       0.000000     NaN   \n",
       "25%               NaN        NaN     NaN      5.000000       2.000000     NaN   \n",
       "50%               NaN        NaN     NaN     12.000000       3.000000     NaN   \n",
       "75%               NaN        NaN     NaN     17.000000       5.000000     NaN   \n",
       "max               NaN        NaN     NaN     99.000000      80.000000     NaN   \n",
       "\n",
       "         ward    population public_meeting              recorded_by  \n",
       "count   59400  59400.000000          56066                    59400  \n",
       "unique   2092           NaN              2                        1  \n",
       "top     Igosi           NaN           True  GeoData Consultants Ltd  \n",
       "freq      307           NaN          51011                    59400  \n",
       "mean      NaN    179.909983            NaN                      NaN  \n",
       "std       NaN    471.482176            NaN                      NaN  \n",
       "min       NaN      0.000000            NaN                      NaN  \n",
       "25%       NaN      0.000000            NaN                      NaN  \n",
       "50%       NaN     25.000000            NaN                      NaN  \n",
       "75%       NaN    215.000000            NaN                      NaN  \n",
       "max       NaN  30500.000000            NaN                      NaN  "
      ]
     },
     "execution_count": 26,
     "metadata": {},
     "output_type": "execute_result"
    }
   ],
   "source": [
    "train_data.iloc[:, 10:20].describe(include = 'all')"
   ]
  },
  {
   "cell_type": "code",
   "execution_count": 27,
   "metadata": {},
   "outputs": [
    {
     "data": {
      "text/html": [
       "<div>\n",
       "<style scoped>\n",
       "    .dataframe tbody tr th:only-of-type {\n",
       "        vertical-align: middle;\n",
       "    }\n",
       "\n",
       "    .dataframe tbody tr th {\n",
       "        vertical-align: top;\n",
       "    }\n",
       "\n",
       "    .dataframe thead th {\n",
       "        text-align: right;\n",
       "    }\n",
       "</style>\n",
       "<table border=\"1\" class=\"dataframe\">\n",
       "  <thead>\n",
       "    <tr style=\"text-align: right;\">\n",
       "      <th></th>\n",
       "      <th>basin</th>\n",
       "      <th>subvillage</th>\n",
       "      <th>region</th>\n",
       "      <th>region_code</th>\n",
       "      <th>district_code</th>\n",
       "      <th>lga</th>\n",
       "      <th>ward</th>\n",
       "      <th>population</th>\n",
       "      <th>public_meeting</th>\n",
       "      <th>recorded_by</th>\n",
       "    </tr>\n",
       "  </thead>\n",
       "  <tbody>\n",
       "    <tr>\n",
       "      <th>count</th>\n",
       "      <td>14850</td>\n",
       "      <td>14751</td>\n",
       "      <td>14850</td>\n",
       "      <td>14850.000000</td>\n",
       "      <td>14850.000000</td>\n",
       "      <td>14850</td>\n",
       "      <td>14850</td>\n",
       "      <td>14850.000000</td>\n",
       "      <td>14029</td>\n",
       "      <td>14850</td>\n",
       "    </tr>\n",
       "    <tr>\n",
       "      <th>unique</th>\n",
       "      <td>9</td>\n",
       "      <td>8443</td>\n",
       "      <td>21</td>\n",
       "      <td>NaN</td>\n",
       "      <td>NaN</td>\n",
       "      <td>125</td>\n",
       "      <td>1959</td>\n",
       "      <td>NaN</td>\n",
       "      <td>2</td>\n",
       "      <td>1</td>\n",
       "    </tr>\n",
       "    <tr>\n",
       "      <th>top</th>\n",
       "      <td>Lake Victoria</td>\n",
       "      <td>Shuleni</td>\n",
       "      <td>Shinyanga</td>\n",
       "      <td>NaN</td>\n",
       "      <td>NaN</td>\n",
       "      <td>Njombe</td>\n",
       "      <td>Igosi</td>\n",
       "      <td>NaN</td>\n",
       "      <td>True</td>\n",
       "      <td>GeoData Consultants Ltd</td>\n",
       "    </tr>\n",
       "    <tr>\n",
       "      <th>freq</th>\n",
       "      <td>2623</td>\n",
       "      <td>140</td>\n",
       "      <td>1311</td>\n",
       "      <td>NaN</td>\n",
       "      <td>NaN</td>\n",
       "      <td>625</td>\n",
       "      <td>79</td>\n",
       "      <td>NaN</td>\n",
       "      <td>12738</td>\n",
       "      <td>14850</td>\n",
       "    </tr>\n",
       "    <tr>\n",
       "      <th>mean</th>\n",
       "      <td>NaN</td>\n",
       "      <td>NaN</td>\n",
       "      <td>NaN</td>\n",
       "      <td>15.139057</td>\n",
       "      <td>5.626397</td>\n",
       "      <td>NaN</td>\n",
       "      <td>NaN</td>\n",
       "      <td>184.114209</td>\n",
       "      <td>NaN</td>\n",
       "      <td>NaN</td>\n",
       "    </tr>\n",
       "    <tr>\n",
       "      <th>std</th>\n",
       "      <td>NaN</td>\n",
       "      <td>NaN</td>\n",
       "      <td>NaN</td>\n",
       "      <td>17.191329</td>\n",
       "      <td>9.673842</td>\n",
       "      <td>NaN</td>\n",
       "      <td>NaN</td>\n",
       "      <td>469.499332</td>\n",
       "      <td>NaN</td>\n",
       "      <td>NaN</td>\n",
       "    </tr>\n",
       "    <tr>\n",
       "      <th>min</th>\n",
       "      <td>NaN</td>\n",
       "      <td>NaN</td>\n",
       "      <td>NaN</td>\n",
       "      <td>1.000000</td>\n",
       "      <td>0.000000</td>\n",
       "      <td>NaN</td>\n",
       "      <td>NaN</td>\n",
       "      <td>0.000000</td>\n",
       "      <td>NaN</td>\n",
       "      <td>NaN</td>\n",
       "    </tr>\n",
       "    <tr>\n",
       "      <th>25%</th>\n",
       "      <td>NaN</td>\n",
       "      <td>NaN</td>\n",
       "      <td>NaN</td>\n",
       "      <td>5.000000</td>\n",
       "      <td>2.000000</td>\n",
       "      <td>NaN</td>\n",
       "      <td>NaN</td>\n",
       "      <td>0.000000</td>\n",
       "      <td>NaN</td>\n",
       "      <td>NaN</td>\n",
       "    </tr>\n",
       "    <tr>\n",
       "      <th>50%</th>\n",
       "      <td>NaN</td>\n",
       "      <td>NaN</td>\n",
       "      <td>NaN</td>\n",
       "      <td>12.000000</td>\n",
       "      <td>3.000000</td>\n",
       "      <td>NaN</td>\n",
       "      <td>NaN</td>\n",
       "      <td>20.000000</td>\n",
       "      <td>NaN</td>\n",
       "      <td>NaN</td>\n",
       "    </tr>\n",
       "    <tr>\n",
       "      <th>75%</th>\n",
       "      <td>NaN</td>\n",
       "      <td>NaN</td>\n",
       "      <td>NaN</td>\n",
       "      <td>17.000000</td>\n",
       "      <td>5.000000</td>\n",
       "      <td>NaN</td>\n",
       "      <td>NaN</td>\n",
       "      <td>220.000000</td>\n",
       "      <td>NaN</td>\n",
       "      <td>NaN</td>\n",
       "    </tr>\n",
       "    <tr>\n",
       "      <th>max</th>\n",
       "      <td>NaN</td>\n",
       "      <td>NaN</td>\n",
       "      <td>NaN</td>\n",
       "      <td>99.000000</td>\n",
       "      <td>80.000000</td>\n",
       "      <td>NaN</td>\n",
       "      <td>NaN</td>\n",
       "      <td>11469.000000</td>\n",
       "      <td>NaN</td>\n",
       "      <td>NaN</td>\n",
       "    </tr>\n",
       "  </tbody>\n",
       "</table>\n",
       "</div>"
      ],
      "text/plain": [
       "                basin subvillage     region   region_code  district_code  \\\n",
       "count           14850      14751      14850  14850.000000   14850.000000   \n",
       "unique              9       8443         21           NaN            NaN   \n",
       "top     Lake Victoria    Shuleni  Shinyanga           NaN            NaN   \n",
       "freq             2623        140       1311           NaN            NaN   \n",
       "mean              NaN        NaN        NaN     15.139057       5.626397   \n",
       "std               NaN        NaN        NaN     17.191329       9.673842   \n",
       "min               NaN        NaN        NaN      1.000000       0.000000   \n",
       "25%               NaN        NaN        NaN      5.000000       2.000000   \n",
       "50%               NaN        NaN        NaN     12.000000       3.000000   \n",
       "75%               NaN        NaN        NaN     17.000000       5.000000   \n",
       "max               NaN        NaN        NaN     99.000000      80.000000   \n",
       "\n",
       "           lga   ward    population public_meeting              recorded_by  \n",
       "count    14850  14850  14850.000000          14029                    14850  \n",
       "unique     125   1959           NaN              2                        1  \n",
       "top     Njombe  Igosi           NaN           True  GeoData Consultants Ltd  \n",
       "freq       625     79           NaN          12738                    14850  \n",
       "mean       NaN    NaN    184.114209            NaN                      NaN  \n",
       "std        NaN    NaN    469.499332            NaN                      NaN  \n",
       "min        NaN    NaN      0.000000            NaN                      NaN  \n",
       "25%        NaN    NaN      0.000000            NaN                      NaN  \n",
       "50%        NaN    NaN     20.000000            NaN                      NaN  \n",
       "75%        NaN    NaN    220.000000            NaN                      NaN  \n",
       "max        NaN    NaN  11469.000000            NaN                      NaN  "
      ]
     },
     "execution_count": 27,
     "metadata": {},
     "output_type": "execute_result"
    }
   ],
   "source": [
    "test_data.iloc[:, 10:20].describe(include = 'all')"
   ]
  },
  {
   "cell_type": "markdown",
   "metadata": {},
   "source": [
    "### `basin`"
   ]
  },
  {
   "cell_type": "code",
   "execution_count": 28,
   "metadata": {},
   "outputs": [
    {
     "data": {
      "image/png": "[encoded data removed]",
      "text/plain": [
       "<Figure size 1440x720 with 1 Axes>"
      ]
     },
     "metadata": {
      "needs_background": "light"
     },
     "output_type": "display_data"
    }
   ],
   "source": [
    "bar_plot(train_data.basin)"
   ]
  },
  {
   "cell_type": "code",
   "execution_count": 29,
   "metadata": {},
   "outputs": [
    {
     "data": {
      "text/plain": [
       "Lake Victoria              10248\n",
       "Pangani                     8940\n",
       "Rufiji                      7976\n",
       "Internal                    7785\n",
       "Lake Tanganyika             6432\n",
       "Wami / Ruvu                 5987\n",
       "Lake Nyasa                  5085\n",
       "Ruvuma / Southern Coast     4493\n",
       "Lake Rukwa                  2454\n",
       "Name: basin, dtype: int64"
      ]
     },
     "execution_count": 29,
     "metadata": {},
     "output_type": "execute_result"
    }
   ],
   "source": [
    "train_data.basin.value_counts()"
   ]
  },
  {
   "cell_type": "code",
   "execution_count": 30,
   "metadata": {},
   "outputs": [
    {
     "data": {
      "image/png": "[encoded data removed]",
      "text/plain": [
       "<Figure size 1440x720 with 1 Axes>"
      ]
     },
     "metadata": {
      "needs_background": "light"
     },
     "output_type": "display_data"
    }
   ],
   "source": [
    "bar_plot(test_data.basin)"
   ]
  },
  {
   "cell_type": "code",
   "execution_count": 31,
   "metadata": {},
   "outputs": [
    {
     "data": {
      "text/plain": [
       "Lake Victoria              2623\n",
       "Pangani                    2203\n",
       "Rufiji                     2011\n",
       "Internal                   1857\n",
       "Lake Tanganyika            1620\n",
       "Wami / Ruvu                1590\n",
       "Lake Nyasa                 1247\n",
       "Ruvuma / Southern Coast    1094\n",
       "Lake Rukwa                  605\n",
       "Name: basin, dtype: int64"
      ]
     },
     "execution_count": 31,
     "metadata": {},
     "output_type": "execute_result"
    }
   ],
   "source": [
    "test_data.basin.value_counts()"
   ]
  },
  {
   "cell_type": "markdown",
   "metadata": {},
   "source": [
    "### `subvillage`"
   ]
  },
  {
   "cell_type": "code",
   "execution_count": 32,
   "metadata": {},
   "outputs": [
    {
     "data": {
      "text/plain": [
       "Madukani               508\n",
       "Shuleni                506\n",
       "Majengo                502\n",
       "Kati                   373\n",
       "Mtakuja                262\n",
       "Sokoni                 232\n",
       "M                      187\n",
       "Muungano               172\n",
       "Mbuyuni                164\n",
       "Mlimani                152\n",
       "Songambele             147\n",
       "Msikitini              134\n",
       "Miembeni               134\n",
       "1                      132\n",
       "Kibaoni                114\n",
       "Kanisani               111\n",
       "I                      109\n",
       "Mapinduzi              109\n",
       "Mjini                  108\n",
       "Mjimwema               108\n",
       "Mkwajuni               104\n",
       "Mwenge                 102\n",
       "Azimio                  98\n",
       "Mabatini                98\n",
       "Mission                 95\n",
       "Mbugani                 95\n",
       "Bwawani                 91\n",
       "Bondeni                 90\n",
       "Chang'Ombe              88\n",
       "Zahanati                86\n",
       "                      ... \n",
       "Lunduka                  1\n",
       "Pachoto B                1\n",
       "Mukibira                 1\n",
       "Nyamakombo               1\n",
       "Busigabole               1\n",
       "Kitahana                 1\n",
       "Longung                  1\n",
       "Mwamadilana              1\n",
       "Bwendamwizo A            1\n",
       "Mwalujo                  1\n",
       "Kipela Kusini            1\n",
       "Kimbila                  1\n",
       "Sekewe                   1\n",
       "Mwimimbiu Magharibi      1\n",
       "Alugoma                  1\n",
       "Kabaganga A              1\n",
       "Bushora                  1\n",
       "Mheza Chini              1\n",
       "Liwalika                 1\n",
       "Mtoju                    1\n",
       "Sarieni                  1\n",
       "Lwangamanga              1\n",
       "Kagondo                  1\n",
       "Rwamakendo               1\n",
       "Lugeye A                 1\n",
       "Ikutu                    1\n",
       "Masindi B                1\n",
       "Mohomela A               1\n",
       "Gidamatoy                1\n",
       "63                       1\n",
       "Name: subvillage, Length: 19287, dtype: int64"
      ]
     },
     "execution_count": 32,
     "metadata": {},
     "output_type": "execute_result"
    }
   ],
   "source": [
    "train_data.subvillage.value_counts()"
   ]
  },
  {
   "cell_type": "code",
   "execution_count": 33,
   "metadata": {},
   "outputs": [
    {
     "data": {
      "text/plain": [
       "Shuleni                 140\n",
       "Majengo                 129\n",
       "Madukani                121\n",
       "Kati                     94\n",
       "Sokoni                   62\n",
       "Mtakuja                  60\n",
       "M                        56\n",
       "Songambele               47\n",
       "Mbuyuni                  46\n",
       "Muungano                 43\n",
       "Mlimani                  38\n",
       "Amani                    38\n",
       "Kanisani                 35\n",
       "Miembeni                 34\n",
       "Bondeni                  31\n",
       "Msikitini                30\n",
       "Kibaoni                  29\n",
       "Senta                    27\n",
       "Kichangani               26\n",
       "1                        25\n",
       "Mtaa Wa Kitunda Kati     24\n",
       "Nyerere                  24\n",
       "Mjini                    23\n",
       "Mwenge                   23\n",
       "Kisiwani                 22\n",
       "Mjimwema                 21\n",
       "Mkwajuni                 21\n",
       "Mtaa Wa Kivule           21\n",
       "Msumbiji                 21\n",
       "Msufini                  20\n",
       "                       ... \n",
       "Igunda                    1\n",
       "Mpimba                    1\n",
       "Irangali                  1\n",
       "Ukuryani                  1\n",
       "Ilungu A                  1\n",
       "Kadewele                  1\n",
       "Uleka                     1\n",
       "Ilopa                     1\n",
       "Ruaha                     1\n",
       "Omumbuga                  1\n",
       "Nemba                     1\n",
       "Kweshiu                   1\n",
       "Nambele                   1\n",
       "Mkowo                     1\n",
       "Mbangala B                1\n",
       "Malangale                 1\n",
       "Loshuwash                 1\n",
       "Bahini                    1\n",
       "Onyonya                   1\n",
       "Kigarika                  1\n",
       "Imowarak                  1\n",
       "Chamagati                 1\n",
       "Mitema                    1\n",
       "Utuja Center              1\n",
       "Sigidi                    1\n",
       "Maponda                   1\n",
       "Mifigini                  1\n",
       "Mahida                    1\n",
       "Reli Chini                1\n",
       "Daily                     1\n",
       "Name: subvillage, Length: 8443, dtype: int64"
      ]
     },
     "execution_count": 33,
     "metadata": {},
     "output_type": "execute_result"
    }
   ],
   "source": [
    "test_data.subvillage.value_counts()"
   ]
  },
  {
   "cell_type": "markdown",
   "metadata": {},
   "source": [
    "### `region`"
   ]
  },
  {
   "cell_type": "code",
   "execution_count": 34,
   "metadata": {},
   "outputs": [
    {
     "data": {
      "image/png": "[encoded data removed]",
      "text/plain": [
       "<Figure size 1440x720 with 1 Axes>"
      ]
     },
     "metadata": {
      "needs_background": "light"
     },
     "output_type": "display_data"
    }
   ],
   "source": [
    "bar_plot(train_data.region)"
   ]
  },
  {
   "cell_type": "code",
   "execution_count": 35,
   "metadata": {},
   "outputs": [
    {
     "data": {
      "image/png": "[encoded data removed]",
      "text/plain": [
       "<Figure size 1440x720 with 1 Axes>"
      ]
     },
     "metadata": {
      "needs_background": "light"
     },
     "output_type": "display_data"
    }
   ],
   "source": [
    "bar_plot(test_data.region)"
   ]
  },
  {
   "cell_type": "code",
   "execution_count": 36,
   "metadata": {},
   "outputs": [
    {
     "data": {
      "text/plain": [
       "21"
      ]
     },
     "execution_count": 36,
     "metadata": {},
     "output_type": "execute_result"
    }
   ],
   "source": [
    "train_data.region.nunique()"
   ]
  },
  {
   "cell_type": "markdown",
   "metadata": {},
   "source": [
    "### `region_code`"
   ]
  },
  {
   "cell_type": "code",
   "execution_count": 37,
   "metadata": {},
   "outputs": [
    {
     "data": {
      "text/plain": [
       "11    5300\n",
       "17    5011\n",
       "12    4639\n",
       "3     4379\n",
       "5     4040\n",
       "18    3324\n",
       "19    3047\n",
       "2     3024\n",
       "16    2816\n",
       "10    2640\n",
       "4     2513\n",
       "1     2201\n",
       "13    2093\n",
       "14    1979\n",
       "20    1969\n",
       "15    1808\n",
       "6     1609\n",
       "21    1583\n",
       "80    1238\n",
       "60    1025\n",
       "90     917\n",
       "7      805\n",
       "99     423\n",
       "9      390\n",
       "24     326\n",
       "8      300\n",
       "40       1\n",
       "Name: region_code, dtype: int64"
      ]
     },
     "execution_count": 37,
     "metadata": {},
     "output_type": "execute_result"
    }
   ],
   "source": [
    "train_data.region_code.value_counts()"
   ]
  },
  {
   "cell_type": "code",
   "execution_count": 38,
   "metadata": {},
   "outputs": [
    {
     "data": {
      "text/plain": [
       "27"
      ]
     },
     "execution_count": 38,
     "metadata": {},
     "output_type": "execute_result"
    }
   ],
   "source": [
    "train_data.region_code.nunique()"
   ]
  },
  {
   "cell_type": "code",
   "execution_count": 39,
   "metadata": {},
   "outputs": [
    {
     "data": {
      "image/png": "[encoded data removed]",
      "text/plain": [
       "<Figure size 1440x720 with 1 Axes>"
      ]
     },
     "metadata": {
      "needs_background": "light"
     },
     "output_type": "display_data"
    }
   ],
   "source": [
    "bar_plot(train_data.region_code.apply(str))"
   ]
  },
  {
   "cell_type": "code",
   "execution_count": 40,
   "metadata": {},
   "outputs": [
    {
     "data": {
      "text/plain": [
       "26"
      ]
     },
     "execution_count": 40,
     "metadata": {},
     "output_type": "execute_result"
    }
   ],
   "source": [
    "test_data.region_code.nunique()"
   ]
  },
  {
   "cell_type": "code",
   "execution_count": 41,
   "metadata": {},
   "outputs": [
    {
     "data": {
      "image/png": "[encoded data removed]",
      "text/plain": [
       "<Figure size 1440x720 with 1 Axes>"
      ]
     },
     "metadata": {
      "needs_background": "light"
     },
     "output_type": "display_data"
    }
   ],
   "source": [
    "bar_plot(test_data.region_code.apply(str))"
   ]
  },
  {
   "cell_type": "markdown",
   "metadata": {},
   "source": [
    "### `district_code`"
   ]
  },
  {
   "cell_type": "code",
   "execution_count": 42,
   "metadata": {},
   "outputs": [
    {
     "data": {
      "text/plain": [
       "1     12203\n",
       "2     11173\n",
       "3      9998\n",
       "4      8999\n",
       "5      4356\n",
       "6      4074\n",
       "7      3343\n",
       "8      1043\n",
       "30      995\n",
       "33      874\n",
       "53      745\n",
       "43      505\n",
       "13      391\n",
       "23      293\n",
       "63      195\n",
       "62      109\n",
       "60       63\n",
       "0        23\n",
       "80       12\n",
       "67        6\n",
       "Name: district_code, dtype: int64"
      ]
     },
     "execution_count": 42,
     "metadata": {},
     "output_type": "execute_result"
    }
   ],
   "source": [
    "train_data.district_code.value_counts()"
   ]
  },
  {
   "cell_type": "code",
   "execution_count": 43,
   "metadata": {},
   "outputs": [
    {
     "data": {
      "image/png": "[encoded data removed]",
      "text/plain": [
       "<Figure size 1440x720 with 1 Axes>"
      ]
     },
     "metadata": {
      "needs_background": "light"
     },
     "output_type": "display_data"
    }
   ],
   "source": [
    "bar_plot(train_data.district_code.apply(str))"
   ]
  },
  {
   "cell_type": "code",
   "execution_count": 44,
   "metadata": {},
   "outputs": [
    {
     "data": {
      "image/png": "[encoded data removed]",
      "text/plain": [
       "<Figure size 1440x720 with 1 Axes>"
      ]
     },
     "metadata": {
      "needs_background": "light"
     },
     "output_type": "display_data"
    }
   ],
   "source": [
    "bar_plot(test_data.district_code.apply(str))"
   ]
  },
  {
   "cell_type": "code",
   "execution_count": 45,
   "metadata": {},
   "outputs": [
    {
     "data": {
      "text/plain": [
       "20"
      ]
     },
     "execution_count": 45,
     "metadata": {},
     "output_type": "execute_result"
    }
   ],
   "source": [
    "train_data.district_code.nunique()"
   ]
  },
  {
   "cell_type": "code",
   "execution_count": 46,
   "metadata": {},
   "outputs": [
    {
     "data": {
      "text/plain": [
       "20"
      ]
     },
     "execution_count": 46,
     "metadata": {},
     "output_type": "execute_result"
    }
   ],
   "source": [
    "test_data.district_code.nunique()"
   ]
  },
  {
   "cell_type": "markdown",
   "metadata": {},
   "source": [
    "### `lga`"
   ]
  },
  {
   "cell_type": "code",
   "execution_count": 47,
   "metadata": {},
   "outputs": [
    {
     "data": {
      "text/plain": [
       "Njombe              2503\n",
       "Arusha Rural        1252\n",
       "Moshi Rural         1251\n",
       "Bariadi             1177\n",
       "Rungwe              1106\n",
       "Kilosa              1094\n",
       "Kasulu              1047\n",
       "Mbozi               1034\n",
       "Meru                1009\n",
       "Bagamoyo             997\n",
       "Singida Rural        995\n",
       "Kilombero            959\n",
       "Same                 877\n",
       "Kibondo              874\n",
       "Kyela                859\n",
       "Kahama               836\n",
       "Kigoma Rural         824\n",
       "Magu                 824\n",
       "Maswa                809\n",
       "Karagwe              771\n",
       "Mbinga               750\n",
       "Iringa Rural         728\n",
       "Serengeti            716\n",
       "Lushoto              694\n",
       "Namtumbo             694\n",
       "Songea Rural         693\n",
       "Mpanda               679\n",
       "Mvomero              671\n",
       "Ngara                669\n",
       "Ulanga               665\n",
       "                    ... \n",
       "Ileje                231\n",
       "Bahi                 224\n",
       "Kisarawe             223\n",
       "Temeke               215\n",
       "Rorya                210\n",
       "Tarime               209\n",
       "Ngorongoro           201\n",
       "Kiteto               193\n",
       "Shinyanga Urban      191\n",
       "Monduli              189\n",
       "Sumbawanga Urban     180\n",
       "Singida Urban        177\n",
       "Sikonge              170\n",
       "Kilindi              161\n",
       "Nanyumbu             158\n",
       "Tabora Urban         155\n",
       "Liwale               154\n",
       "Ilemela              142\n",
       "Mafia                132\n",
       "Mtwara Urban         124\n",
       "Tanga                 99\n",
       "Morogoro Urban        96\n",
       "Kinondoni             93\n",
       "Bukoba Urban          88\n",
       "Songea Urban          80\n",
       "Moshi Urban           79\n",
       "Kigoma Urban          71\n",
       "Arusha Urban          63\n",
       "Lindi Urban           21\n",
       "Nyamagana              1\n",
       "Name: lga, Length: 125, dtype: int64"
      ]
     },
     "execution_count": 47,
     "metadata": {},
     "output_type": "execute_result"
    }
   ],
   "source": [
    "train_data.lga.value_counts()"
   ]
  },
  {
   "cell_type": "markdown",
   "metadata": {},
   "source": [
    "### `ward`"
   ]
  },
  {
   "cell_type": "code",
   "execution_count": 50,
   "metadata": {},
   "outputs": [
    {
     "data": {
      "text/plain": [
       "2092"
      ]
     },
     "execution_count": 50,
     "metadata": {},
     "output_type": "execute_result"
    }
   ],
   "source": [
    "train_data.ward.nunique()"
   ]
  },
  {
   "cell_type": "code",
   "execution_count": 52,
   "metadata": {},
   "outputs": [
    {
     "data": {
      "text/plain": [
       "1959"
      ]
     },
     "execution_count": 52,
     "metadata": {},
     "output_type": "execute_result"
    }
   ],
   "source": [
    "test_data.ward.nunique()"
   ]
  },
  {
   "cell_type": "markdown",
   "metadata": {},
   "source": [
    "### `population`"
   ]
  },
  {
   "cell_type": "code",
   "execution_count": 53,
   "metadata": {},
   "outputs": [
    {
     "data": {
      "image/png": "[encoded data removed]",
      "text/plain": [
       "<Figure size 1440x720 with 1 Axes>"
      ]
     },
     "metadata": {
      "needs_background": "light"
     },
     "output_type": "display_data"
    }
   ],
   "source": [
    "histogram(train_data['population'])"
   ]
  },
  {
   "cell_type": "code",
   "execution_count": 54,
   "metadata": {},
   "outputs": [
    {
     "data": {
      "image/png": "[encoded data removed]",
      "text/plain": [
       "<Figure size 1440x720 with 1 Axes>"
      ]
     },
     "metadata": {
      "needs_background": "light"
     },
     "output_type": "display_data"
    }
   ],
   "source": [
    "histogram(test_data['population'])"
   ]
  },
  {
   "cell_type": "markdown",
   "metadata": {},
   "source": [
    "### `public_meeting`"
   ]
  },
  {
   "cell_type": "code",
   "execution_count": 55,
   "metadata": {},
   "outputs": [
    {
     "data": {
      "text/plain": [
       "False    56066\n",
       "True      3334\n",
       "Name: public_meeting, dtype: int64"
      ]
     },
     "execution_count": 55,
     "metadata": {},
     "output_type": "execute_result"
    }
   ],
   "source": [
    "train_data['public_meeting'].isnull().value_counts()"
   ]
  },
  {
   "cell_type": "code",
   "execution_count": 56,
   "metadata": {},
   "outputs": [
    {
     "data": {
      "text/plain": [
       "False    14029\n",
       "True       821\n",
       "Name: public_meeting, dtype: int64"
      ]
     },
     "execution_count": 56,
     "metadata": {},
     "output_type": "execute_result"
    }
   ],
   "source": [
    "test_data['public_meeting'].isnull().value_counts()"
   ]
  },
  {
   "cell_type": "code",
   "execution_count": 57,
   "metadata": {},
   "outputs": [
    {
     "data": {
      "text/plain": [
       "True     51011\n",
       "False     5055\n",
       "Name: public_meeting, dtype: int64"
      ]
     },
     "execution_count": 57,
     "metadata": {},
     "output_type": "execute_result"
    }
   ],
   "source": [
    "train_data['public_meeting'].value_counts()"
   ]
  },
  {
   "cell_type": "code",
   "execution_count": 58,
   "metadata": {},
   "outputs": [
    {
     "data": {
      "text/plain": [
       "True     12738\n",
       "False     1291\n",
       "Name: public_meeting, dtype: int64"
      ]
     },
     "execution_count": 58,
     "metadata": {},
     "output_type": "execute_result"
    }
   ],
   "source": [
    "test_data['public_meeting'].value_counts()"
   ]
  },
  {
   "cell_type": "markdown",
   "metadata": {},
   "source": [
    "### `recorded_by`"
   ]
  },
  {
   "cell_type": "code",
   "execution_count": 59,
   "metadata": {},
   "outputs": [
    {
     "data": {
      "text/plain": [
       "GeoData Consultants Ltd    59400\n",
       "Name: recorded_by, dtype: int64"
      ]
     },
     "execution_count": 59,
     "metadata": {},
     "output_type": "execute_result"
    }
   ],
   "source": [
    "train_data.recorded_by.value_counts()"
   ]
  },
  {
   "cell_type": "code",
   "execution_count": 60,
   "metadata": {},
   "outputs": [
    {
     "data": {
      "text/plain": [
       "GeoData Consultants Ltd    14850\n",
       "Name: recorded_by, dtype: int64"
      ]
     },
     "execution_count": 60,
     "metadata": {},
     "output_type": "execute_result"
    }
   ],
   "source": [
    "test_data.recorded_by.value_counts()"
   ]
  },
  {
   "cell_type": "markdown",
   "metadata": {},
   "source": [
    "## 21-30 variables - EDA"
   ]
  },
  {
   "cell_type": "code",
   "execution_count": 61,
   "metadata": {},
   "outputs": [
    {
     "data": {
      "text/html": [
       "<div>\n",
       "<style scoped>\n",
       "    .dataframe tbody tr th:only-of-type {\n",
       "        vertical-align: middle;\n",
       "    }\n",
       "\n",
       "    .dataframe tbody tr th {\n",
       "        vertical-align: top;\n",
       "    }\n",
       "\n",
       "    .dataframe thead th {\n",
       "        text-align: right;\n",
       "    }\n",
       "</style>\n",
       "<table border=\"1\" class=\"dataframe\">\n",
       "  <thead>\n",
       "    <tr style=\"text-align: right;\">\n",
       "      <th></th>\n",
       "      <th>scheme_management</th>\n",
       "      <th>scheme_name</th>\n",
       "      <th>permit</th>\n",
       "      <th>construction_year</th>\n",
       "      <th>extraction_type</th>\n",
       "      <th>extraction_type_group</th>\n",
       "      <th>extraction_type_class</th>\n",
       "      <th>management</th>\n",
       "      <th>management_group</th>\n",
       "      <th>payment</th>\n",
       "    </tr>\n",
       "  </thead>\n",
       "  <tbody>\n",
       "    <tr>\n",
       "      <th>count</th>\n",
       "      <td>55523</td>\n",
       "      <td>31234</td>\n",
       "      <td>56344</td>\n",
       "      <td>59400.000000</td>\n",
       "      <td>59400</td>\n",
       "      <td>59400</td>\n",
       "      <td>59400</td>\n",
       "      <td>59400</td>\n",
       "      <td>59400</td>\n",
       "      <td>59400</td>\n",
       "    </tr>\n",
       "    <tr>\n",
       "      <th>unique</th>\n",
       "      <td>12</td>\n",
       "      <td>2696</td>\n",
       "      <td>2</td>\n",
       "      <td>NaN</td>\n",
       "      <td>18</td>\n",
       "      <td>13</td>\n",
       "      <td>7</td>\n",
       "      <td>12</td>\n",
       "      <td>5</td>\n",
       "      <td>7</td>\n",
       "    </tr>\n",
       "    <tr>\n",
       "      <th>top</th>\n",
       "      <td>VWC</td>\n",
       "      <td>K</td>\n",
       "      <td>True</td>\n",
       "      <td>NaN</td>\n",
       "      <td>gravity</td>\n",
       "      <td>gravity</td>\n",
       "      <td>gravity</td>\n",
       "      <td>vwc</td>\n",
       "      <td>user-group</td>\n",
       "      <td>never pay</td>\n",
       "    </tr>\n",
       "    <tr>\n",
       "      <th>freq</th>\n",
       "      <td>36793</td>\n",
       "      <td>682</td>\n",
       "      <td>38852</td>\n",
       "      <td>NaN</td>\n",
       "      <td>26780</td>\n",
       "      <td>26780</td>\n",
       "      <td>26780</td>\n",
       "      <td>40507</td>\n",
       "      <td>52490</td>\n",
       "      <td>25348</td>\n",
       "    </tr>\n",
       "    <tr>\n",
       "      <th>mean</th>\n",
       "      <td>NaN</td>\n",
       "      <td>NaN</td>\n",
       "      <td>NaN</td>\n",
       "      <td>1300.652475</td>\n",
       "      <td>NaN</td>\n",
       "      <td>NaN</td>\n",
       "      <td>NaN</td>\n",
       "      <td>NaN</td>\n",
       "      <td>NaN</td>\n",
       "      <td>NaN</td>\n",
       "    </tr>\n",
       "    <tr>\n",
       "      <th>std</th>\n",
       "      <td>NaN</td>\n",
       "      <td>NaN</td>\n",
       "      <td>NaN</td>\n",
       "      <td>951.620547</td>\n",
       "      <td>NaN</td>\n",
       "      <td>NaN</td>\n",
       "      <td>NaN</td>\n",
       "      <td>NaN</td>\n",
       "      <td>NaN</td>\n",
       "      <td>NaN</td>\n",
       "    </tr>\n",
       "    <tr>\n",
       "      <th>min</th>\n",
       "      <td>NaN</td>\n",
       "      <td>NaN</td>\n",
       "      <td>NaN</td>\n",
       "      <td>0.000000</td>\n",
       "      <td>NaN</td>\n",
       "      <td>NaN</td>\n",
       "      <td>NaN</td>\n",
       "      <td>NaN</td>\n",
       "      <td>NaN</td>\n",
       "      <td>NaN</td>\n",
       "    </tr>\n",
       "    <tr>\n",
       "      <th>25%</th>\n",
       "      <td>NaN</td>\n",
       "      <td>NaN</td>\n",
       "      <td>NaN</td>\n",
       "      <td>0.000000</td>\n",
       "      <td>NaN</td>\n",
       "      <td>NaN</td>\n",
       "      <td>NaN</td>\n",
       "      <td>NaN</td>\n",
       "      <td>NaN</td>\n",
       "      <td>NaN</td>\n",
       "    </tr>\n",
       "    <tr>\n",
       "      <th>50%</th>\n",
       "      <td>NaN</td>\n",
       "      <td>NaN</td>\n",
       "      <td>NaN</td>\n",
       "      <td>1986.000000</td>\n",
       "      <td>NaN</td>\n",
       "      <td>NaN</td>\n",
       "      <td>NaN</td>\n",
       "      <td>NaN</td>\n",
       "      <td>NaN</td>\n",
       "      <td>NaN</td>\n",
       "    </tr>\n",
       "    <tr>\n",
       "      <th>75%</th>\n",
       "      <td>NaN</td>\n",
       "      <td>NaN</td>\n",
       "      <td>NaN</td>\n",
       "      <td>2004.000000</td>\n",
       "      <td>NaN</td>\n",
       "      <td>NaN</td>\n",
       "      <td>NaN</td>\n",
       "      <td>NaN</td>\n",
       "      <td>NaN</td>\n",
       "      <td>NaN</td>\n",
       "    </tr>\n",
       "    <tr>\n",
       "      <th>max</th>\n",
       "      <td>NaN</td>\n",
       "      <td>NaN</td>\n",
       "      <td>NaN</td>\n",
       "      <td>2013.000000</td>\n",
       "      <td>NaN</td>\n",
       "      <td>NaN</td>\n",
       "      <td>NaN</td>\n",
       "      <td>NaN</td>\n",
       "      <td>NaN</td>\n",
       "      <td>NaN</td>\n",
       "    </tr>\n",
       "  </tbody>\n",
       "</table>\n",
       "</div>"
      ],
      "text/plain": [
       "       scheme_management scheme_name permit  construction_year  \\\n",
       "count              55523       31234  56344       59400.000000   \n",
       "unique                12        2696      2                NaN   \n",
       "top                  VWC           K   True                NaN   \n",
       "freq               36793         682  38852                NaN   \n",
       "mean                 NaN         NaN    NaN        1300.652475   \n",
       "std                  NaN         NaN    NaN         951.620547   \n",
       "min                  NaN         NaN    NaN           0.000000   \n",
       "25%                  NaN         NaN    NaN           0.000000   \n",
       "50%                  NaN         NaN    NaN        1986.000000   \n",
       "75%                  NaN         NaN    NaN        2004.000000   \n",
       "max                  NaN         NaN    NaN        2013.000000   \n",
       "\n",
       "       extraction_type extraction_type_group extraction_type_class management  \\\n",
       "count            59400                 59400                 59400      59400   \n",
       "unique              18                    13                     7         12   \n",
       "top            gravity               gravity               gravity        vwc   \n",
       "freq             26780                 26780                 26780      40507   \n",
       "mean               NaN                   NaN                   NaN        NaN   \n",
       "std                NaN                   NaN                   NaN        NaN   \n",
       "min                NaN                   NaN                   NaN        NaN   \n",
       "25%                NaN                   NaN                   NaN        NaN   \n",
       "50%                NaN                   NaN                   NaN        NaN   \n",
       "75%                NaN                   NaN                   NaN        NaN   \n",
       "max                NaN                   NaN                   NaN        NaN   \n",
       "\n",
       "       management_group    payment  \n",
       "count             59400      59400  \n",
       "unique                5          7  \n",
       "top          user-group  never pay  \n",
       "freq              52490      25348  \n",
       "mean                NaN        NaN  \n",
       "std                 NaN        NaN  \n",
       "min                 NaN        NaN  \n",
       "25%                 NaN        NaN  \n",
       "50%                 NaN        NaN  \n",
       "75%                 NaN        NaN  \n",
       "max                 NaN        NaN  "
      ]
     },
     "execution_count": 61,
     "metadata": {},
     "output_type": "execute_result"
    }
   ],
   "source": [
    "train_data.iloc[:, 20:30].describe(include = 'all')"
   ]
  },
  {
   "cell_type": "code",
   "execution_count": 62,
   "metadata": {},
   "outputs": [
    {
     "data": {
      "text/html": [
       "<div>\n",
       "<style scoped>\n",
       "    .dataframe tbody tr th:only-of-type {\n",
       "        vertical-align: middle;\n",
       "    }\n",
       "\n",
       "    .dataframe tbody tr th {\n",
       "        vertical-align: top;\n",
       "    }\n",
       "\n",
       "    .dataframe thead th {\n",
       "        text-align: right;\n",
       "    }\n",
       "</style>\n",
       "<table border=\"1\" class=\"dataframe\">\n",
       "  <thead>\n",
       "    <tr style=\"text-align: right;\">\n",
       "      <th></th>\n",
       "      <th>scheme_management</th>\n",
       "      <th>scheme_name</th>\n",
       "      <th>permit</th>\n",
       "      <th>construction_year</th>\n",
       "      <th>extraction_type</th>\n",
       "      <th>extraction_type_group</th>\n",
       "      <th>extraction_type_class</th>\n",
       "      <th>management</th>\n",
       "      <th>management_group</th>\n",
       "      <th>payment</th>\n",
       "    </tr>\n",
       "  </thead>\n",
       "  <tbody>\n",
       "    <tr>\n",
       "      <th>count</th>\n",
       "      <td>13881</td>\n",
       "      <td>7758</td>\n",
       "      <td>14113</td>\n",
       "      <td>14850.000000</td>\n",
       "      <td>14850</td>\n",
       "      <td>14850</td>\n",
       "      <td>14850</td>\n",
       "      <td>14850</td>\n",
       "      <td>14850</td>\n",
       "      <td>14850</td>\n",
       "    </tr>\n",
       "    <tr>\n",
       "      <th>unique</th>\n",
       "      <td>11</td>\n",
       "      <td>1789</td>\n",
       "      <td>2</td>\n",
       "      <td>NaN</td>\n",
       "      <td>17</td>\n",
       "      <td>13</td>\n",
       "      <td>7</td>\n",
       "      <td>12</td>\n",
       "      <td>5</td>\n",
       "      <td>7</td>\n",
       "    </tr>\n",
       "    <tr>\n",
       "      <th>top</th>\n",
       "      <td>VWC</td>\n",
       "      <td>K</td>\n",
       "      <td>True</td>\n",
       "      <td>NaN</td>\n",
       "      <td>gravity</td>\n",
       "      <td>gravity</td>\n",
       "      <td>gravity</td>\n",
       "      <td>vwc</td>\n",
       "      <td>user-group</td>\n",
       "      <td>never pay</td>\n",
       "    </tr>\n",
       "    <tr>\n",
       "      <th>freq</th>\n",
       "      <td>9124</td>\n",
       "      <td>176</td>\n",
       "      <td>9754</td>\n",
       "      <td>NaN</td>\n",
       "      <td>6483</td>\n",
       "      <td>6483</td>\n",
       "      <td>6483</td>\n",
       "      <td>10117</td>\n",
       "      <td>13048</td>\n",
       "      <td>6364</td>\n",
       "    </tr>\n",
       "    <tr>\n",
       "      <th>mean</th>\n",
       "      <td>NaN</td>\n",
       "      <td>NaN</td>\n",
       "      <td>NaN</td>\n",
       "      <td>1289.708350</td>\n",
       "      <td>NaN</td>\n",
       "      <td>NaN</td>\n",
       "      <td>NaN</td>\n",
       "      <td>NaN</td>\n",
       "      <td>NaN</td>\n",
       "      <td>NaN</td>\n",
       "    </tr>\n",
       "    <tr>\n",
       "      <th>std</th>\n",
       "      <td>NaN</td>\n",
       "      <td>NaN</td>\n",
       "      <td>NaN</td>\n",
       "      <td>955.241087</td>\n",
       "      <td>NaN</td>\n",
       "      <td>NaN</td>\n",
       "      <td>NaN</td>\n",
       "      <td>NaN</td>\n",
       "      <td>NaN</td>\n",
       "      <td>NaN</td>\n",
       "    </tr>\n",
       "    <tr>\n",
       "      <th>min</th>\n",
       "      <td>NaN</td>\n",
       "      <td>NaN</td>\n",
       "      <td>NaN</td>\n",
       "      <td>0.000000</td>\n",
       "      <td>NaN</td>\n",
       "      <td>NaN</td>\n",
       "      <td>NaN</td>\n",
       "      <td>NaN</td>\n",
       "      <td>NaN</td>\n",
       "      <td>NaN</td>\n",
       "    </tr>\n",
       "    <tr>\n",
       "      <th>25%</th>\n",
       "      <td>NaN</td>\n",
       "      <td>NaN</td>\n",
       "      <td>NaN</td>\n",
       "      <td>0.000000</td>\n",
       "      <td>NaN</td>\n",
       "      <td>NaN</td>\n",
       "      <td>NaN</td>\n",
       "      <td>NaN</td>\n",
       "      <td>NaN</td>\n",
       "      <td>NaN</td>\n",
       "    </tr>\n",
       "    <tr>\n",
       "      <th>50%</th>\n",
       "      <td>NaN</td>\n",
       "      <td>NaN</td>\n",
       "      <td>NaN</td>\n",
       "      <td>1986.000000</td>\n",
       "      <td>NaN</td>\n",
       "      <td>NaN</td>\n",
       "      <td>NaN</td>\n",
       "      <td>NaN</td>\n",
       "      <td>NaN</td>\n",
       "      <td>NaN</td>\n",
       "    </tr>\n",
       "    <tr>\n",
       "      <th>75%</th>\n",
       "      <td>NaN</td>\n",
       "      <td>NaN</td>\n",
       "      <td>NaN</td>\n",
       "      <td>2004.000000</td>\n",
       "      <td>NaN</td>\n",
       "      <td>NaN</td>\n",
       "      <td>NaN</td>\n",
       "      <td>NaN</td>\n",
       "      <td>NaN</td>\n",
       "      <td>NaN</td>\n",
       "    </tr>\n",
       "    <tr>\n",
       "      <th>max</th>\n",
       "      <td>NaN</td>\n",
       "      <td>NaN</td>\n",
       "      <td>NaN</td>\n",
       "      <td>2013.000000</td>\n",
       "      <td>NaN</td>\n",
       "      <td>NaN</td>\n",
       "      <td>NaN</td>\n",
       "      <td>NaN</td>\n",
       "      <td>NaN</td>\n",
       "      <td>NaN</td>\n",
       "    </tr>\n",
       "  </tbody>\n",
       "</table>\n",
       "</div>"
      ],
      "text/plain": [
       "       scheme_management scheme_name permit  construction_year  \\\n",
       "count              13881        7758  14113       14850.000000   \n",
       "unique                11        1789      2                NaN   \n",
       "top                  VWC           K   True                NaN   \n",
       "freq                9124         176   9754                NaN   \n",
       "mean                 NaN         NaN    NaN        1289.708350   \n",
       "std                  NaN         NaN    NaN         955.241087   \n",
       "min                  NaN         NaN    NaN           0.000000   \n",
       "25%                  NaN         NaN    NaN           0.000000   \n",
       "50%                  NaN         NaN    NaN        1986.000000   \n",
       "75%                  NaN         NaN    NaN        2004.000000   \n",
       "max                  NaN         NaN    NaN        2013.000000   \n",
       "\n",
       "       extraction_type extraction_type_group extraction_type_class management  \\\n",
       "count            14850                 14850                 14850      14850   \n",
       "unique              17                    13                     7         12   \n",
       "top            gravity               gravity               gravity        vwc   \n",
       "freq              6483                  6483                  6483      10117   \n",
       "mean               NaN                   NaN                   NaN        NaN   \n",
       "std                NaN                   NaN                   NaN        NaN   \n",
       "min                NaN                   NaN                   NaN        NaN   \n",
       "25%                NaN                   NaN                   NaN        NaN   \n",
       "50%                NaN                   NaN                   NaN        NaN   \n",
       "75%                NaN                   NaN                   NaN        NaN   \n",
       "max                NaN                   NaN                   NaN        NaN   \n",
       "\n",
       "       management_group    payment  \n",
       "count             14850      14850  \n",
       "unique                5          7  \n",
       "top          user-group  never pay  \n",
       "freq              13048       6364  \n",
       "mean                NaN        NaN  \n",
       "std                 NaN        NaN  \n",
       "min                 NaN        NaN  \n",
       "25%                 NaN        NaN  \n",
       "50%                 NaN        NaN  \n",
       "75%                 NaN        NaN  \n",
       "max                 NaN        NaN  "
      ]
     },
     "execution_count": 62,
     "metadata": {},
     "output_type": "execute_result"
    }
   ],
   "source": [
    "test_data.iloc[:, 20:30].describe(include = 'all')"
   ]
  },
  {
   "cell_type": "markdown",
   "metadata": {},
   "source": [
    "### `schema_management`"
   ]
  },
  {
   "cell_type": "code",
   "execution_count": 66,
   "metadata": {},
   "outputs": [
    {
     "data": {
      "text/plain": [
       "VWC                 36793\n",
       "WUG                  5206\n",
       "Water authority      3153\n",
       "WUA                  2883\n",
       "Water Board          2748\n",
       "Parastatal           1680\n",
       "Private operator     1063\n",
       "Company              1061\n",
       "Other                 766\n",
       "SWC                    97\n",
       "Trust                  72\n",
       "None                    1\n",
       "Name: scheme_management, dtype: int64"
      ]
     },
     "execution_count": 66,
     "metadata": {},
     "output_type": "execute_result"
    }
   ],
   "source": [
    "train_data.scheme_management.value_counts()"
   ]
  },
  {
   "cell_type": "code",
   "execution_count": 67,
   "metadata": {},
   "outputs": [
    {
     "data": {
      "text/plain": [
       "False    55523\n",
       "True      3877\n",
       "Name: scheme_management, dtype: int64"
      ]
     },
     "execution_count": 67,
     "metadata": {},
     "output_type": "execute_result"
    }
   ],
   "source": [
    "train_data.scheme_management.isnull().value_counts()"
   ]
  },
  {
   "cell_type": "code",
   "execution_count": 68,
   "metadata": {},
   "outputs": [
    {
     "data": {
      "image/png": "[encoded data removed]",
      "text/plain": [
       "<Figure size 1440x720 with 1 Axes>"
      ]
     },
     "metadata": {
      "needs_background": "light"
     },
     "output_type": "display_data"
    }
   ],
   "source": [
    "bar_plot(train_data.scheme_management)"
   ]
  },
  {
   "cell_type": "code",
   "execution_count": 69,
   "metadata": {},
   "outputs": [
    {
     "data": {
      "text/plain": [
       "False    13881\n",
       "True       969\n",
       "Name: scheme_management, dtype: int64"
      ]
     },
     "execution_count": 69,
     "metadata": {},
     "output_type": "execute_result"
    }
   ],
   "source": [
    "test_data.scheme_management.isnull().value_counts()"
   ]
  },
  {
   "cell_type": "code",
   "execution_count": 70,
   "metadata": {},
   "outputs": [
    {
     "data": {
      "text/plain": [
       "VWC                 9124\n",
       "WUG                 1290\n",
       "Water authority      822\n",
       "Water Board          714\n",
       "WUA                  668\n",
       "Parastatal           444\n",
       "Company              280\n",
       "Private operator     263\n",
       "Other                230\n",
       "SWC                   26\n",
       "Trust                 20\n",
       "Name: scheme_management, dtype: int64"
      ]
     },
     "execution_count": 70,
     "metadata": {},
     "output_type": "execute_result"
    }
   ],
   "source": [
    "test_data.scheme_management.value_counts()"
   ]
  },
  {
   "cell_type": "code",
   "execution_count": 71,
   "metadata": {},
   "outputs": [
    {
     "data": {
      "image/png": "[encoded data removed]",
      "text/plain": [
       "<Figure size 1440x720 with 1 Axes>"
      ]
     },
     "metadata": {
      "needs_background": "light"
     },
     "output_type": "display_data"
    }
   ],
   "source": [
    "bar_plot(test_data.scheme_management)"
   ]
  },
  {
   "cell_type": "markdown",
   "metadata": {},
   "source": [
    "### `permit`"
   ]
  },
  {
   "cell_type": "code",
   "execution_count": 72,
   "metadata": {},
   "outputs": [
    {
     "data": {
      "text/plain": [
       "True     38852\n",
       "False    17492\n",
       "Name: permit, dtype: int64"
      ]
     },
     "execution_count": 72,
     "metadata": {},
     "output_type": "execute_result"
    }
   ],
   "source": [
    "train_data.permit.value_counts()"
   ]
  },
  {
   "cell_type": "code",
   "execution_count": 73,
   "metadata": {},
   "outputs": [
    {
     "data": {
      "text/plain": [
       "False    56344\n",
       "True      3056\n",
       "Name: permit, dtype: int64"
      ]
     },
     "execution_count": 73,
     "metadata": {},
     "output_type": "execute_result"
    }
   ],
   "source": [
    "train_data.permit.isnull().value_counts()"
   ]
  },
  {
   "cell_type": "code",
   "execution_count": 74,
   "metadata": {},
   "outputs": [
    {
     "data": {
      "text/plain": [
       "True     9754\n",
       "False    4359\n",
       "Name: permit, dtype: int64"
      ]
     },
     "execution_count": 74,
     "metadata": {},
     "output_type": "execute_result"
    }
   ],
   "source": [
    "test_data.permit.value_counts()"
   ]
  },
  {
   "cell_type": "code",
   "execution_count": 75,
   "metadata": {},
   "outputs": [
    {
     "data": {
      "text/plain": [
       "False    14113\n",
       "True       737\n",
       "Name: permit, dtype: int64"
      ]
     },
     "execution_count": 75,
     "metadata": {},
     "output_type": "execute_result"
    }
   ],
   "source": [
    "test_data.permit.isnull().value_counts()"
   ]
  }
 ],
 "metadata": {
  "kernelspec": {
   "display_name": "Python 3",
   "language": "python",
   "name": "python3"
  },
  "language_info": {
   "codemirror_mode": {
    "name": "ipython",
    "version": 3
   },
   "file_extension": ".py",
   "mimetype": "text/x-python",
   "name": "python",
   "nbconvert_exporter": "python",
   "pygments_lexer": "ipython3",
   "version": "3.7.1"
  }
 },
 "nbformat": 4,
 "nbformat_minor": 2
}
